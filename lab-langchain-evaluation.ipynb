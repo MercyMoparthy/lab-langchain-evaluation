{
 "cells": [
  {
   "cell_type": "markdown",
   "id": "1b00dae2-c271-4a69-a579-742e084a9058",
   "metadata": {},
   "source": [
    "# Lab | Langchain Evaluation\n",
    "\n",
    "## Intro\n",
    "\n",
    "Pick different sets of data and re-run this notebook. The point is for you to understand all steps involve and the many different ways one can and should evaluate LLM applications.\n",
    "\n",
    "What did you learn? - Let's discuss that in class"
   ]
  },
  {
   "cell_type": "markdown",
   "id": "52824b89-532a-4e54-87e9-1410813cd39e",
   "metadata": {},
   "source": [
    "## LangChain: Evaluation\n",
    "\n",
    "### Outline:\n",
    "\n",
    "* Example generation\n",
    "* Manual evaluation (and debuging)\n",
    "* LLM-assisted evaluation"
   ]
  },
  {
   "cell_type": "code",
   "execution_count": 1,
   "id": "b7ed03ed-1322-49e3-b2a2-33e94fb592ef",
   "metadata": {
    "height": 98,
    "tags": []
   },
   "outputs": [],
   "source": [
    "from dotenv import load_dotenv, find_dotenv\n",
    "import os\n",
    "_ = load_dotenv(find_dotenv())\n",
    "\n",
    "OPENAI_API_KEY  = os.getenv('OPENAI_API_KEY') "
   ]
  },
  {
   "cell_type": "markdown",
   "id": "e7e29d2c-ba67-4cba-8ded-375fe040b9ba",
   "metadata": {},
   "source": [
    "### Example 1"
   ]
  },
  {
   "cell_type": "markdown",
   "id": "28008949",
   "metadata": {},
   "source": [
    "#### Create our QandA application"
   ]
  },
  {
   "cell_type": "code",
   "execution_count": 2,
   "id": "974acf8e-8f88-42de-88f8-40a82cb58e8b",
   "metadata": {
    "height": 115,
    "tags": []
   },
   "outputs": [
    {
     "name": "stdout",
     "output_type": "stream",
     "text": [
      "Requirement already satisfied: langchain-huggingface in c:\\users\\mercy\\appdata\\local\\programs\\python\\python313\\lib\\site-packages (0.3.0)\n",
      "Requirement already satisfied: langchain-core<1.0.0,>=0.3.65 in c:\\users\\mercy\\appdata\\local\\programs\\python\\python313\\lib\\site-packages (from langchain-huggingface) (0.3.66)\n",
      "Requirement already satisfied: tokenizers>=0.19.1 in c:\\users\\mercy\\appdata\\local\\programs\\python\\python313\\lib\\site-packages (from langchain-huggingface) (0.21.2)\n",
      "Requirement already satisfied: huggingface-hub>=0.30.2 in c:\\users\\mercy\\appdata\\local\\programs\\python\\python313\\lib\\site-packages (from langchain-huggingface) (0.33.0)\n",
      "Requirement already satisfied: langsmith>=0.3.45 in c:\\users\\mercy\\appdata\\local\\programs\\python\\python313\\lib\\site-packages (from langchain-core<1.0.0,>=0.3.65->langchain-huggingface) (0.3.45)\n",
      "Requirement already satisfied: tenacity!=8.4.0,<10.0.0,>=8.1.0 in c:\\users\\mercy\\appdata\\local\\programs\\python\\python313\\lib\\site-packages (from langchain-core<1.0.0,>=0.3.65->langchain-huggingface) (9.1.2)\n",
      "Requirement already satisfied: jsonpatch<2.0,>=1.33 in c:\\users\\mercy\\appdata\\local\\programs\\python\\python313\\lib\\site-packages (from langchain-core<1.0.0,>=0.3.65->langchain-huggingface) (1.33)\n",
      "Requirement already satisfied: PyYAML>=5.3 in c:\\users\\mercy\\appdata\\local\\programs\\python\\python313\\lib\\site-packages (from langchain-core<1.0.0,>=0.3.65->langchain-huggingface) (6.0.2)\n",
      "Requirement already satisfied: packaging<25,>=23.2 in c:\\users\\mercy\\appdata\\local\\programs\\python\\python313\\lib\\site-packages (from langchain-core<1.0.0,>=0.3.65->langchain-huggingface) (24.0)\n",
      "Requirement already satisfied: typing-extensions>=4.7 in c:\\users\\mercy\\appdata\\local\\programs\\python\\python313\\lib\\site-packages (from langchain-core<1.0.0,>=0.3.65->langchain-huggingface) (4.14.0)\n",
      "Requirement already satisfied: pydantic>=2.7.4 in c:\\users\\mercy\\appdata\\local\\programs\\python\\python313\\lib\\site-packages (from langchain-core<1.0.0,>=0.3.65->langchain-huggingface) (2.11.4)\n",
      "Requirement already satisfied: jsonpointer>=1.9 in c:\\users\\mercy\\appdata\\local\\programs\\python\\python313\\lib\\site-packages (from jsonpatch<2.0,>=1.33->langchain-core<1.0.0,>=0.3.65->langchain-huggingface) (3.0.0)\n",
      "Requirement already satisfied: filelock in c:\\users\\mercy\\appdata\\local\\programs\\python\\python313\\lib\\site-packages (from huggingface-hub>=0.30.2->langchain-huggingface) (3.18.0)\n",
      "Requirement already satisfied: fsspec>=2023.5.0 in c:\\users\\mercy\\appdata\\local\\programs\\python\\python313\\lib\\site-packages (from huggingface-hub>=0.30.2->langchain-huggingface) (2025.5.1)\n",
      "Requirement already satisfied: requests in c:\\users\\mercy\\appdata\\local\\programs\\python\\python313\\lib\\site-packages (from huggingface-hub>=0.30.2->langchain-huggingface) (2.32.4)\n",
      "Requirement already satisfied: tqdm>=4.42.1 in c:\\users\\mercy\\appdata\\local\\programs\\python\\python313\\lib\\site-packages (from huggingface-hub>=0.30.2->langchain-huggingface) (4.67.1)\n",
      "Requirement already satisfied: httpx<1,>=0.23.0 in c:\\users\\mercy\\appdata\\local\\programs\\python\\python313\\lib\\site-packages (from langsmith>=0.3.45->langchain-core<1.0.0,>=0.3.65->langchain-huggingface) (0.27.0)\n",
      "Requirement already satisfied: orjson<4.0.0,>=3.9.14 in c:\\users\\mercy\\appdata\\local\\programs\\python\\python313\\lib\\site-packages (from langsmith>=0.3.45->langchain-core<1.0.0,>=0.3.65->langchain-huggingface) (3.10.18)\n",
      "Requirement already satisfied: requests-toolbelt<2.0.0,>=1.0.0 in c:\\users\\mercy\\appdata\\local\\programs\\python\\python313\\lib\\site-packages (from langsmith>=0.3.45->langchain-core<1.0.0,>=0.3.65->langchain-huggingface) (1.0.0)\n",
      "Requirement already satisfied: zstandard<0.24.0,>=0.23.0 in c:\\users\\mercy\\appdata\\local\\programs\\python\\python313\\lib\\site-packages (from langsmith>=0.3.45->langchain-core<1.0.0,>=0.3.65->langchain-huggingface) (0.23.0)\n",
      "Requirement already satisfied: anyio in c:\\users\\mercy\\appdata\\local\\programs\\python\\python313\\lib\\site-packages (from httpx<1,>=0.23.0->langsmith>=0.3.45->langchain-core<1.0.0,>=0.3.65->langchain-huggingface) (4.9.0)\n",
      "Requirement already satisfied: certifi in c:\\users\\mercy\\appdata\\local\\programs\\python\\python313\\lib\\site-packages (from httpx<1,>=0.23.0->langsmith>=0.3.45->langchain-core<1.0.0,>=0.3.65->langchain-huggingface) (2025.6.15)\n",
      "Requirement already satisfied: httpcore==1.* in c:\\users\\mercy\\appdata\\local\\programs\\python\\python313\\lib\\site-packages (from httpx<1,>=0.23.0->langsmith>=0.3.45->langchain-core<1.0.0,>=0.3.65->langchain-huggingface) (1.0.9)\n",
      "Requirement already satisfied: idna in c:\\users\\mercy\\appdata\\local\\programs\\python\\python313\\lib\\site-packages (from httpx<1,>=0.23.0->langsmith>=0.3.45->langchain-core<1.0.0,>=0.3.65->langchain-huggingface) (3.10)\n",
      "Requirement already satisfied: sniffio in c:\\users\\mercy\\appdata\\local\\programs\\python\\python313\\lib\\site-packages (from httpx<1,>=0.23.0->langsmith>=0.3.45->langchain-core<1.0.0,>=0.3.65->langchain-huggingface) (1.3.1)\n",
      "Requirement already satisfied: h11>=0.16 in c:\\users\\mercy\\appdata\\local\\programs\\python\\python313\\lib\\site-packages (from httpcore==1.*->httpx<1,>=0.23.0->langsmith>=0.3.45->langchain-core<1.0.0,>=0.3.65->langchain-huggingface) (0.16.0)\n",
      "Requirement already satisfied: annotated-types>=0.6.0 in c:\\users\\mercy\\appdata\\local\\programs\\python\\python313\\lib\\site-packages (from pydantic>=2.7.4->langchain-core<1.0.0,>=0.3.65->langchain-huggingface) (0.7.0)\n",
      "Requirement already satisfied: pydantic-core==2.33.2 in c:\\users\\mercy\\appdata\\local\\programs\\python\\python313\\lib\\site-packages (from pydantic>=2.7.4->langchain-core<1.0.0,>=0.3.65->langchain-huggingface) (2.33.2)\n",
      "Requirement already satisfied: typing-inspection>=0.4.0 in c:\\users\\mercy\\appdata\\local\\programs\\python\\python313\\lib\\site-packages (from pydantic>=2.7.4->langchain-core<1.0.0,>=0.3.65->langchain-huggingface) (0.4.1)\n",
      "Requirement already satisfied: charset_normalizer<4,>=2 in c:\\users\\mercy\\appdata\\local\\programs\\python\\python313\\lib\\site-packages (from requests->huggingface-hub>=0.30.2->langchain-huggingface) (3.4.2)\n",
      "Requirement already satisfied: urllib3<3,>=1.21.1 in c:\\users\\mercy\\appdata\\local\\programs\\python\\python313\\lib\\site-packages (from requests->huggingface-hub>=0.30.2->langchain-huggingface) (2.5.0)\n",
      "Requirement already satisfied: colorama in c:\\users\\mercy\\appdata\\local\\programs\\python\\python313\\lib\\site-packages (from tqdm>=4.42.1->huggingface-hub>=0.30.2->langchain-huggingface) (0.4.6)\n",
      "Note: you may need to restart the kernel to use updated packages.\n"
     ]
    }
   ],
   "source": [
    "%pip install langchain-huggingface\n",
    "\n",
    "from langchain.chains import RetrievalQA\n",
    "from langchain_openai import ChatOpenAI\n",
    "from langchain_huggingface import HuggingFaceEmbeddings\n",
    "from langchain_community.document_loaders import CSVLoader, TextLoader\n",
    "from langchain.indexes import VectorstoreIndexCreator\n",
    "from langchain.vectorstores import DocArrayInMemorySearch\n",
    "from langchain.chains import LLMChain\n"
   ]
  },
  {
   "cell_type": "code",
   "execution_count": 1,
   "id": "9ec1106d",
   "metadata": {
    "height": 64,
    "tags": []
   },
   "outputs": [
    {
     "data": {
      "text/html": [
       "<div>\n",
       "<style scoped>\n",
       "    .dataframe tbody tr th:only-of-type {\n",
       "        vertical-align: middle;\n",
       "    }\n",
       "\n",
       "    .dataframe tbody tr th {\n",
       "        vertical-align: top;\n",
       "    }\n",
       "\n",
       "    .dataframe thead th {\n",
       "        text-align: right;\n",
       "    }\n",
       "</style>\n",
       "<table border=\"1\" class=\"dataframe\">\n",
       "  <thead>\n",
       "    <tr style=\"text-align: right;\">\n",
       "      <th></th>\n",
       "      <th>Unnamed: 0</th>\n",
       "      <th>name</th>\n",
       "      <th>description</th>\n",
       "    </tr>\n",
       "  </thead>\n",
       "  <tbody>\n",
       "    <tr>\n",
       "      <th>0</th>\n",
       "      <td>0</td>\n",
       "      <td>Women's Campside Oxfords</td>\n",
       "      <td>This ultracomfortable lace-to-toe Oxford boast...</td>\n",
       "    </tr>\n",
       "    <tr>\n",
       "      <th>1</th>\n",
       "      <td>1</td>\n",
       "      <td>Recycled Waterhog Dog Mat, Chevron Weave</td>\n",
       "      <td>Protect your floors from spills and splashing ...</td>\n",
       "    </tr>\n",
       "    <tr>\n",
       "      <th>2</th>\n",
       "      <td>2</td>\n",
       "      <td>Infant and Toddler Girls' Coastal Chill Swimsu...</td>\n",
       "      <td>She'll love the bright colors, ruffles and exc...</td>\n",
       "    </tr>\n",
       "    <tr>\n",
       "      <th>3</th>\n",
       "      <td>3</td>\n",
       "      <td>Refresh Swimwear, V-Neck Tankini Contrasts</td>\n",
       "      <td>Whether you're going for a swim or heading out...</td>\n",
       "    </tr>\n",
       "    <tr>\n",
       "      <th>4</th>\n",
       "      <td>4</td>\n",
       "      <td>EcoFlex 3L Storm Pants</td>\n",
       "      <td>Our new TEK O2 technology makes our four-seaso...</td>\n",
       "    </tr>\n",
       "  </tbody>\n",
       "</table>\n",
       "</div>"
      ],
      "text/plain": [
       "   Unnamed: 0                                               name  \\\n",
       "0           0                           Women's Campside Oxfords   \n",
       "1           1           Recycled Waterhog Dog Mat, Chevron Weave   \n",
       "2           2  Infant and Toddler Girls' Coastal Chill Swimsu...   \n",
       "3           3         Refresh Swimwear, V-Neck Tankini Contrasts   \n",
       "4           4                             EcoFlex 3L Storm Pants   \n",
       "\n",
       "                                         description  \n",
       "0  This ultracomfortable lace-to-toe Oxford boast...  \n",
       "1  Protect your floors from spills and splashing ...  \n",
       "2  She'll love the bright colors, ruffles and exc...  \n",
       "3  Whether you're going for a swim or heading out...  \n",
       "4  Our new TEK O2 technology makes our four-seaso...  "
      ]
     },
     "execution_count": 1,
     "metadata": {},
     "output_type": "execute_result"
    }
   ],
   "source": [
    "import os\n",
    "import pandas as pd\n",
    "from langchain_community.document_loaders import CSVLoader\n",
    "\n",
    "file = r'data\\OutdoorClothingCatalog_1000.csv'  # Raw string for Windows\n",
    "if not os.path.exists(file):\n",
    "    raise FileNotFoundError(f\"File not found: {file}\")\n",
    "\n",
    "# Load with pandas for DataFrame operations\n",
    "data = pd.read_csv(file, encoding='utf-8')\n",
    "\n",
    "# Load with LangChain CSVLoader for document processing\n",
    "loader = CSVLoader(file_path=file, encoding='utf-8', source_column='description')\n",
    "docs = loader.load()\n",
    "data.head()"
   ]
  },
  {
   "cell_type": "code",
   "execution_count": 2,
   "id": "70589ea4",
   "metadata": {},
   "outputs": [],
   "source": [
    "from langchain.vectorstores import DocArrayInMemorySearch\n",
    "from langchain_huggingface import HuggingFaceEmbeddings\n",
    "from langchain.indexes import VectorstoreIndexCreator"
   ]
  },
  {
   "cell_type": "code",
   "execution_count": 3,
   "id": "b31c218f",
   "metadata": {
    "height": 64,
    "tags": []
   },
   "outputs": [
    {
     "name": "stderr",
     "output_type": "stream",
     "text": [
      "c:\\Users\\Mercy\\AppData\\Local\\Programs\\Python\\Python313\\Lib\\site-packages\\pydantic\\_migration.py:283: UserWarning: `pydantic.error_wrappers:ValidationError` has been moved to `pydantic:ValidationError`.\n",
      "  warnings.warn(f'`{import_path}` has been moved to `{new_location}`.')\n"
     ]
    }
   ],
   "source": [
    "file = r'data\\OutdoorClothingCatalog_1000.csv'  # Match Cell [5]\n",
    "if not os.path.exists(file):\n",
    "    raise FileNotFoundError(f\"File not found: {file}\")\n",
    "\n",
    "loader = CSVLoader(file_path=file, encoding='utf-8', source_column='description')\n",
    "index = VectorstoreIndexCreator(\n",
    "    vectorstore_cls=DocArrayInMemorySearch,\n",
    "    embedding=HuggingFaceEmbeddings(model_name=\"all-MiniLM-L6-v2\", model_kwargs={'device': 'cpu'})\n",
    ").from_loaders([loader])"
   ]
  },
  {
   "cell_type": "code",
   "execution_count": 42,
   "id": "a2006054",
   "metadata": {
    "height": 183,
    "tags": []
   },
   "outputs": [],
   "source": [
    "from langchain_openai import ChatOpenAI\n",
    "from langchain.chains import RetrievalQA\n",
    "llm = ChatOpenAI(temperature=0.0)\n",
    "qa = RetrievalQA.from_chain_type(\n",
    "    llm=llm,\n",
    "    chain_type=\"stuff\",\n",
    "    retriever=index.vectorstore.as_retriever(),\n",
    "    verbose=True,\n",
    "    chain_type_kwargs={\"document_separator\": \"<<<<>>>>>\"}\n",
    ")"
   ]
  },
  {
   "cell_type": "markdown",
   "id": "791ebd73",
   "metadata": {},
   "source": [
    "#### Coming up with test datapoints"
   ]
  },
  {
   "cell_type": "code",
   "execution_count": 7,
   "id": "fb04a0f9",
   "metadata": {
    "height": 30,
    "tags": []
   },
   "outputs": [
    {
     "data": {
      "text/plain": [
       "Unnamed: 0                                                    10\n",
       "name                           Cozy Comfort Pullover Set, Stripe\n",
       "description    Perfect for lounging, this striped knit set li...\n",
       "Name: 10, dtype: object"
      ]
     },
     "execution_count": 7,
     "metadata": {},
     "output_type": "execute_result"
    }
   ],
   "source": [
    "data.iloc[10]"
   ]
  },
  {
   "cell_type": "code",
   "execution_count": 8,
   "id": "fe4a88c2",
   "metadata": {
    "height": 30,
    "tags": []
   },
   "outputs": [
    {
     "data": {
      "text/plain": [
       "Unnamed: 0                                                    11\n",
       "name                  Ultra-Lofty 850 Stretch Down Hooded Jacket\n",
       "description    This technical stretch down jacket from our Do...\n",
       "Name: 11, dtype: object"
      ]
     },
     "execution_count": 8,
     "metadata": {},
     "output_type": "execute_result"
    }
   ],
   "source": [
    "data.iloc[11]"
   ]
  },
  {
   "cell_type": "markdown",
   "id": "8d548aef",
   "metadata": {},
   "source": [
    "#### Hard-coded examples"
   ]
  },
  {
   "cell_type": "code",
   "execution_count": 9,
   "id": "106fbd91-f7bc-4d6b-b090-54b6a485ce39",
   "metadata": {
    "tags": []
   },
   "outputs": [],
   "source": [
    "from langchain.prompts import PromptTemplate"
   ]
  },
  {
   "cell_type": "code",
   "execution_count": 11,
   "id": "0c5d5af6-36db-4421-b635-46384e677847",
   "metadata": {
    "tags": []
   },
   "outputs": [
    {
     "name": "stderr",
     "output_type": "stream",
     "text": [
      "C:\\Users\\Mercy\\AppData\\Local\\Temp\\ipykernel_37248\\827319471.py:47: LangChainDeprecationWarning: The class `LLMChain` was deprecated in LangChain 0.1.17 and will be removed in 1.0. Use :meth:`~RunnableSequence, e.g., `prompt | llm`` instead.\n",
      "  llm_chain = LLMChain(\n",
      "C:\\Users\\Mercy\\AppData\\Local\\Temp\\ipykernel_37248\\827319471.py:57: LangChainDeprecationWarning: The method `Chain.run` was deprecated in langchain 0.1.0 and will be removed in 1.0. Use :meth:`~invoke` instead.\n",
      "  result = llm_chain.run({\"query\": query})\n"
     ]
    },
    {
     "name": "stdout",
     "output_type": "stream",
     "text": [
      "answer='Yes, it is available in multiple colors such as grey, navy, and burgundy.'\n"
     ]
    }
   ],
   "source": [
    "from langchain.prompts import PromptTemplate\n",
    "from langchain.schema import BaseOutputParser\n",
    "from pydantic import BaseModel, Field\n",
    "from langchain.chains import LLMChain\n",
    "\n",
    "examples = [\n",
    "    {\n",
    "        \"query\": \"Do the Cozy Comfort Pullover Set\\\n",
    "        have side pockets?\",\n",
    "        \"answer\": \"Yes\"\n",
    "    },\n",
    "    {\n",
    "        \"query\": \"What collection is the Ultra-Lofty \\\n",
    "        850 Stretch Down Hooded Jacket from?\",\n",
    "        \"answer\": \"The DownTek collection\"\n",
    "    }\n",
    "]\n",
    "\n",
    "# Define the prompt template\n",
    "prompt_template = PromptTemplate(\n",
    "    input_variables=[\"query\"],\n",
    "    template=\"Examples:\\n\"\n",
    "             \"1. Query: Do the Cozy Comfort Pullover Set have side pockets?\\n\"\n",
    "             \"   Answer: Yes\\n\"\n",
    "             \"2. Query: What collection is the Ultra-Lofty 850 Stretch Down Hooded Jacket from?\\n\"\n",
    "             \"   Answer: The DownTek collection\\n\"\n",
    "             \"Query: {query}\\n\"\n",
    "             \"Answer:\"\n",
    ")\n",
    "\n",
    "# Define the output model\n",
    "class Answer(BaseModel):\n",
    "    answer: str = Field(description=\"The answer to the query\")\n",
    "\n",
    "# Create the output parser\n",
    "class AnswerOutputParser(BaseOutputParser):\n",
    "    def parse(self, text: str) -> Answer:\n",
    "        # Split the response to get the answer\n",
    "        answer = text.strip().split(\"Answer:\")[-1].strip()\n",
    "        return Answer(answer=answer)\n",
    "\n",
    "# Initialize the LLM\n",
    "# llm = OpenAI()\n",
    "llm = ChatOpenAI()\n",
    "\n",
    "# Create the LLMChain\n",
    "llm_chain = LLMChain(\n",
    "    llm=llm,\n",
    "    prompt=prompt_template,\n",
    "    output_parser=AnswerOutputParser()\n",
    ")\n",
    "\n",
    "# Example query\n",
    "query = \"Is the Cozy Comfort Pullover Set available in different colors?\"\n",
    "\n",
    "# Run the chain\n",
    "result = llm_chain.run({\"query\": query})\n",
    "\n",
    "# Print the result\n",
    "print(result)\n"
   ]
  },
  {
   "cell_type": "markdown",
   "id": "c7ce3e4f",
   "metadata": {},
   "source": [
    "#### LLM-Generated examples"
   ]
  },
  {
   "cell_type": "code",
   "execution_count": 12,
   "id": "d44f8376",
   "metadata": {
    "height": 64,
    "tags": []
   },
   "outputs": [],
   "source": [
    "from langchain.evaluation.qa import QAGenerateChain"
   ]
  },
  {
   "cell_type": "code",
   "execution_count": 13,
   "id": "34e87816",
   "metadata": {
    "height": 47,
    "tags": []
   },
   "outputs": [],
   "source": [
    "example_gen_chain = QAGenerateChain.from_llm(ChatOpenAI())"
   ]
  },
  {
   "cell_type": "code",
   "execution_count": 14,
   "id": "acb34772-368f-4b5e-b4bd-da9b637cc7e8",
   "metadata": {},
   "outputs": [],
   "source": [
    "llm_chain = LLMChain(llm=llm, prompt=prompt_template)"
   ]
  },
  {
   "cell_type": "code",
   "execution_count": 15,
   "id": "62abae09",
   "metadata": {
    "height": 64,
    "tags": []
   },
   "outputs": [
    {
     "name": "stderr",
     "output_type": "stream",
     "text": [
      "c:\\Users\\Mercy\\AppData\\Local\\Programs\\Python\\Python313\\Lib\\site-packages\\langchain\\chains\\llm.py:370: UserWarning: The apply_and_parse method is deprecated, instead pass an output parser directly to LLMChain.\n",
      "  warnings.warn(\n"
     ]
    }
   ],
   "source": [
    "new_examples = example_gen_chain.apply_and_parse(\n",
    "    [{\"doc\": t} for t in data[:5]]\n",
    ")"
   ]
  },
  {
   "cell_type": "code",
   "execution_count": 16,
   "id": "97ab28b5",
   "metadata": {
    "height": 30,
    "tags": []
   },
   "outputs": [
    {
     "data": {
      "text/plain": [
       "{'qa_pairs': {'query': 'What is the title of the document?',\n",
       "  'answer': 'The title of the document is \"Unnamed: 0.\"'}}"
      ]
     },
     "execution_count": 16,
     "metadata": {},
     "output_type": "execute_result"
    }
   ],
   "source": [
    "new_examples[0]"
   ]
  },
  {
   "cell_type": "code",
   "execution_count": 19,
   "id": "0ebe4228",
   "metadata": {
    "height": 30,
    "tags": []
   },
   "outputs": [
    {
     "data": {
      "text/plain": [
       "Unnamed: 0                                                     0\n",
       "name                                    Women's Campside Oxfords\n",
       "description    This ultracomfortable lace-to-toe Oxford boast...\n",
       "Name: 0, dtype: object"
      ]
     },
     "execution_count": 19,
     "metadata": {},
     "output_type": "execute_result"
    }
   ],
   "source": [
    "data.iloc[0]"
   ]
  },
  {
   "cell_type": "code",
   "execution_count": 20,
   "id": "7693fe86-feeb-4d73-b400-e66e79315274",
   "metadata": {
    "tags": []
   },
   "outputs": [
    {
     "data": {
      "text/plain": [
       "[{'query': 'What is the title of the document?',\n",
       "  'answer': 'The title of the document is \"Unnamed: 0.\"'},\n",
       " {'query': 'What is the sole content of the document provided?',\n",
       "  'answer': 'The name.'},\n",
       " {'query': 'What is one key requirement for the role of a teacher?',\n",
       "  'answer': 'One key requirement for the role of a teacher is the ability to effectively describe information.'}]"
      ]
     },
     "execution_count": 20,
     "metadata": {},
     "output_type": "execute_result"
    }
   ],
   "source": [
    "d_flattened = [data['qa_pairs'] for data in new_examples]\n",
    "d_flattened"
   ]
  },
  {
   "cell_type": "markdown",
   "id": "faf25f2f",
   "metadata": {},
   "source": [
    "#### Combine examples"
   ]
  },
  {
   "cell_type": "code",
   "execution_count": 21,
   "id": "ada2a3fc",
   "metadata": {
    "height": 30,
    "tags": []
   },
   "outputs": [],
   "source": [
    "# examples += new_example\n",
    "examples += d_flattened"
   ]
  },
  {
   "cell_type": "code",
   "execution_count": 22,
   "id": "2184b9d7-22ab-43a5-9ba5-b27fef024874",
   "metadata": {
    "tags": []
   },
   "outputs": [
    {
     "data": {
      "text/plain": [
       "{'query': 'Do the Cozy Comfort Pullover Set        have side pockets?',\n",
       " 'answer': 'Yes'}"
      ]
     },
     "execution_count": 22,
     "metadata": {},
     "output_type": "execute_result"
    }
   ],
   "source": [
    "examples[0]"
   ]
  },
  {
   "cell_type": "code",
   "execution_count": 23,
   "id": "9cdf5cf5",
   "metadata": {
    "height": 30,
    "tags": []
   },
   "outputs": [
    {
     "name": "stdout",
     "output_type": "stream",
     "text": [
      "\n",
      "\n",
      "\u001b[1m> Entering new RetrievalQA chain...\u001b[0m\n",
      "\n",
      "\u001b[1m> Finished chain.\u001b[0m\n"
     ]
    },
    {
     "data": {
      "text/plain": [
       "{'query': 'Do the Cozy Comfort Pullover Set        have side pockets?',\n",
       " 'result': 'Based on the provided context, the Cozy Comfort Pullover Set does not have side pockets. It has side seam pockets, a back zip pocket, two elastic mesh water bottle pockets, and a top compartment with a pocket with a double-seal zipper for quick access.'}"
      ]
     },
     "execution_count": 23,
     "metadata": {},
     "output_type": "execute_result"
    }
   ],
   "source": [
    "qa.invoke(examples[0][\"query\"])"
   ]
  },
  {
   "cell_type": "markdown",
   "id": "63f3cb08",
   "metadata": {},
   "source": [
    "### Manual Evaluation - Fun part"
   ]
  },
  {
   "cell_type": "code",
   "execution_count": 24,
   "id": "fcaf622e",
   "metadata": {
    "height": 47,
    "tags": []
   },
   "outputs": [],
   "source": [
    "import langchain\n",
    "langchain.debug = True"
   ]
  },
  {
   "cell_type": "code",
   "execution_count": 25,
   "id": "8a142638",
   "metadata": {
    "height": 30,
    "tags": []
   },
   "outputs": [
    {
     "name": "stdout",
     "output_type": "stream",
     "text": [
      "\u001b[32;1m\u001b[1;3m[chain/start]\u001b[0m \u001b[1m[chain:RetrievalQA] Entering Chain run with input:\n",
      "\u001b[0m{\n",
      "  \"query\": \"Do the Cozy Comfort Pullover Set        have side pockets?\"\n",
      "}\n",
      "\u001b[32;1m\u001b[1;3m[chain/start]\u001b[0m \u001b[1m[chain:RetrievalQA > chain:StuffDocumentsChain] Entering Chain run with input:\n",
      "\u001b[0m[inputs]\n",
      "\u001b[32;1m\u001b[1;3m[chain/start]\u001b[0m \u001b[1m[chain:RetrievalQA > chain:StuffDocumentsChain > chain:LLMChain] Entering Chain run with input:\n",
      "\u001b[0m{\n",
      "  \"question\": \"Do the Cozy Comfort Pullover Set        have side pockets?\",\n",
      "  \"context\": \"Side seam pockets and back zip pocket, with mesh insert for quick drainage.<<<<>>>>>Two elastic mesh water bottle pockets.\\r\\nTop compartment includes pocket with double-seal zipper for quick access.\\r\\nSide<<<<>>>>>All pockets have sturdy pocket bags and offer plenty of room for a wallet, cell phone and more.\\r\\n\\r\\nGusseted crotch for ease of movement.\\r\\n\\r\\nImported.<<<<>>>>>Two elastic mesh water bottle pockets.\\r\\nTop compartment includes pocket with double-se\"\n",
      "}\n",
      "\u001b[32;1m\u001b[1;3m[llm/start]\u001b[0m \u001b[1m[chain:RetrievalQA > chain:StuffDocumentsChain > chain:LLMChain > llm:ChatOpenAI] Entering LLM run with input:\n",
      "\u001b[0m{\n",
      "  \"prompts\": [\n",
      "    \"System: Use the following pieces of context to answer the user's question. \\nIf you don't know the answer, just say that you don't know, don't try to make up an answer.\\n----------------\\nSide seam pockets and back zip pocket, with mesh insert for quick drainage.<<<<>>>>>Two elastic mesh water bottle pockets.\\r\\nTop compartment includes pocket with double-seal zipper for quick access.\\r\\nSide<<<<>>>>>All pockets have sturdy pocket bags and offer plenty of room for a wallet, cell phone and more.\\r\\n\\r\\nGusseted crotch for ease of movement.\\r\\n\\r\\nImported.<<<<>>>>>Two elastic mesh water bottle pockets.\\r\\nTop compartment includes pocket with double-se\\nHuman: Do the Cozy Comfort Pullover Set        have side pockets?\"\n",
      "  ]\n",
      "}\n",
      "\u001b[36;1m\u001b[1;3m[llm/end]\u001b[0m \u001b[1m[chain:RetrievalQA > chain:StuffDocumentsChain > chain:LLMChain > llm:ChatOpenAI] [959ms] Exiting LLM run with output:\n",
      "\u001b[0m{\n",
      "  \"generations\": [\n",
      "    [\n",
      "      {\n",
      "        \"text\": \"Yes, the Cozy Comfort Pullover Set has side seam pockets and a back zip pocket, as well as two elastic mesh water bottle pockets.\",\n",
      "        \"generation_info\": {\n",
      "          \"finish_reason\": \"stop\",\n",
      "          \"logprobs\": null\n",
      "        },\n",
      "        \"type\": \"ChatGeneration\",\n",
      "        \"message\": {\n",
      "          \"lc\": 1,\n",
      "          \"type\": \"constructor\",\n",
      "          \"id\": [\n",
      "            \"langchain\",\n",
      "            \"schema\",\n",
      "            \"messages\",\n",
      "            \"AIMessage\"\n",
      "          ],\n",
      "          \"kwargs\": {\n",
      "            \"content\": \"Yes, the Cozy Comfort Pullover Set has side seam pockets and a back zip pocket, as well as two elastic mesh water bottle pockets.\",\n",
      "            \"additional_kwargs\": {\n",
      "              \"refusal\": null\n",
      "            },\n",
      "            \"response_metadata\": {\n",
      "              \"token_usage\": {\n",
      "                \"completion_tokens\": 29,\n",
      "                \"prompt_tokens\": 158,\n",
      "                \"total_tokens\": 187,\n",
      "                \"completion_tokens_details\": {\n",
      "                  \"accepted_prediction_tokens\": 0,\n",
      "                  \"audio_tokens\": 0,\n",
      "                  \"reasoning_tokens\": 0,\n",
      "                  \"rejected_prediction_tokens\": 0\n",
      "                },\n",
      "                \"prompt_tokens_details\": {\n",
      "                  \"audio_tokens\": 0,\n",
      "                  \"cached_tokens\": 0\n",
      "                }\n",
      "              },\n",
      "              \"model_name\": \"gpt-3.5-turbo-0125\",\n",
      "              \"system_fingerprint\": null,\n",
      "              \"id\": \"chatcmpl-BlyuPdNpBJg8xntuYTOEsPj61pmf0\",\n",
      "              \"service_tier\": \"default\",\n",
      "              \"finish_reason\": \"stop\",\n",
      "              \"logprobs\": null\n",
      "            },\n",
      "            \"type\": \"ai\",\n",
      "            \"id\": \"run--d93d0241-f010-4ac1-8a3d-04e28eb5230f-0\",\n",
      "            \"usage_metadata\": {\n",
      "              \"input_tokens\": 158,\n",
      "              \"output_tokens\": 29,\n",
      "              \"total_tokens\": 187,\n",
      "              \"input_token_details\": {\n",
      "                \"audio\": 0,\n",
      "                \"cache_read\": 0\n",
      "              },\n",
      "              \"output_token_details\": {\n",
      "                \"audio\": 0,\n",
      "                \"reasoning\": 0\n",
      "              }\n",
      "            },\n",
      "            \"tool_calls\": [],\n",
      "            \"invalid_tool_calls\": []\n",
      "          }\n",
      "        }\n",
      "      }\n",
      "    ]\n",
      "  ],\n",
      "  \"llm_output\": {\n",
      "    \"token_usage\": {\n",
      "      \"completion_tokens\": 29,\n",
      "      \"prompt_tokens\": 158,\n",
      "      \"total_tokens\": 187,\n",
      "      \"completion_tokens_details\": {\n",
      "        \"accepted_prediction_tokens\": 0,\n",
      "        \"audio_tokens\": 0,\n",
      "        \"reasoning_tokens\": 0,\n",
      "        \"rejected_prediction_tokens\": 0\n",
      "      },\n",
      "      \"prompt_tokens_details\": {\n",
      "        \"audio_tokens\": 0,\n",
      "        \"cached_tokens\": 0\n",
      "      }\n",
      "    },\n",
      "    \"model_name\": \"gpt-3.5-turbo-0125\",\n",
      "    \"system_fingerprint\": null,\n",
      "    \"id\": \"chatcmpl-BlyuPdNpBJg8xntuYTOEsPj61pmf0\",\n",
      "    \"service_tier\": \"default\"\n",
      "  },\n",
      "  \"run\": null,\n",
      "  \"type\": \"LLMResult\"\n",
      "}\n",
      "\u001b[36;1m\u001b[1;3m[chain/end]\u001b[0m \u001b[1m[chain:RetrievalQA > chain:StuffDocumentsChain > chain:LLMChain] [960ms] Exiting Chain run with output:\n",
      "\u001b[0m{\n",
      "  \"text\": \"Yes, the Cozy Comfort Pullover Set has side seam pockets and a back zip pocket, as well as two elastic mesh water bottle pockets.\"\n",
      "}\n",
      "\u001b[36;1m\u001b[1;3m[chain/end]\u001b[0m \u001b[1m[chain:RetrievalQA > chain:StuffDocumentsChain] [960ms] Exiting Chain run with output:\n",
      "\u001b[0m{\n",
      "  \"output_text\": \"Yes, the Cozy Comfort Pullover Set has side seam pockets and a back zip pocket, as well as two elastic mesh water bottle pockets.\"\n",
      "}\n",
      "\u001b[36;1m\u001b[1;3m[chain/end]\u001b[0m \u001b[1m[chain:RetrievalQA] [1000ms] Exiting Chain run with output:\n",
      "\u001b[0m{\n",
      "  \"result\": \"Yes, the Cozy Comfort Pullover Set has side seam pockets and a back zip pocket, as well as two elastic mesh water bottle pockets.\"\n",
      "}\n"
     ]
    },
    {
     "data": {
      "text/plain": [
       "{'query': 'Do the Cozy Comfort Pullover Set        have side pockets?',\n",
       " 'result': 'Yes, the Cozy Comfort Pullover Set has side seam pockets and a back zip pocket, as well as two elastic mesh water bottle pockets.'}"
      ]
     },
     "execution_count": 25,
     "metadata": {},
     "output_type": "execute_result"
    }
   ],
   "source": [
    "qa.invoke(examples[0][\"query\"])"
   ]
  },
  {
   "cell_type": "code",
   "execution_count": 26,
   "id": "b3d6bef0",
   "metadata": {
    "height": 47,
    "tags": []
   },
   "outputs": [],
   "source": [
    "# Turn off the debug mode\n",
    "langchain.debug = False"
   ]
  },
  {
   "cell_type": "markdown",
   "id": "d5bdbdce",
   "metadata": {},
   "source": [
    "### LLM assisted evaluation"
   ]
  },
  {
   "cell_type": "code",
   "execution_count": 27,
   "id": "a54769b0-3daf-4cac-b259-89a10dd9b5a2",
   "metadata": {
    "tags": []
   },
   "outputs": [],
   "source": [
    "examples += d_flattened"
   ]
  },
  {
   "cell_type": "code",
   "execution_count": 28,
   "id": "8ea95385-1b4c-440a-9fea-8500b4cc2154",
   "metadata": {
    "tags": []
   },
   "outputs": [
    {
     "data": {
      "text/plain": [
       "[{'query': 'Do the Cozy Comfort Pullover Set        have side pockets?',\n",
       "  'answer': 'Yes'},\n",
       " {'query': 'What collection is the Ultra-Lofty         850 Stretch Down Hooded Jacket from?',\n",
       "  'answer': 'The DownTek collection'},\n",
       " {'query': 'What is the title of the document?',\n",
       "  'answer': 'The title of the document is \"Unnamed: 0.\"'},\n",
       " {'query': 'What is the sole content of the document provided?',\n",
       "  'answer': 'The name.'},\n",
       " {'query': 'What is one key requirement for the role of a teacher?',\n",
       "  'answer': 'One key requirement for the role of a teacher is the ability to effectively describe information.'},\n",
       " {'query': 'What is the title of the document?',\n",
       "  'answer': 'The title of the document is \"Unnamed: 0.\"'},\n",
       " {'query': 'What is the sole content of the document provided?',\n",
       "  'answer': 'The name.'},\n",
       " {'query': 'What is one key requirement for the role of a teacher?',\n",
       "  'answer': 'One key requirement for the role of a teacher is the ability to effectively describe information.'}]"
      ]
     },
     "execution_count": 28,
     "metadata": {},
     "output_type": "execute_result"
    }
   ],
   "source": [
    "examples"
   ]
  },
  {
   "cell_type": "code",
   "execution_count": 29,
   "id": "a4dca05a",
   "metadata": {
    "height": 30,
    "tags": []
   },
   "outputs": [
    {
     "name": "stdout",
     "output_type": "stream",
     "text": [
      "\n",
      "\n",
      "\u001b[1m> Entering new RetrievalQA chain...\u001b[0m\n",
      "\n",
      "\n",
      "\u001b[1m> Entering new RetrievalQA chain...\u001b[0m\n",
      "\n",
      "\n",
      "\u001b[1m> Entering new RetrievalQA chain...\u001b[0m\n",
      "\n",
      "\n",
      "\u001b[1m> Entering new RetrievalQA chain...\u001b[0m\n",
      "\n",
      "\n",
      "\u001b[1m> Entering new RetrievalQA chain...\u001b[0m\n",
      "\n",
      "\n",
      "\u001b[1m> Entering new RetrievalQA chain...\u001b[0m\n",
      "\n",
      "\n",
      "\u001b[1m> Entering new RetrievalQA chain...\u001b[0m\n",
      "\n",
      "\n",
      "\u001b[1m> Entering new RetrievalQA chain...\u001b[0m\n",
      "\n",
      "\u001b[1m> Finished chain.\u001b[0m\n",
      "\n",
      "\u001b[1m> Finished chain.\u001b[0m\n",
      "\n",
      "\u001b[1m> Finished chain.\u001b[0m\n",
      "\n",
      "\u001b[1m> Finished chain.\u001b[0m\n",
      "\n",
      "\u001b[1m> Finished chain.\u001b[0m\n",
      "\n",
      "\u001b[1m> Finished chain.\u001b[0m\n",
      "\n",
      "\u001b[1m> Finished chain.\u001b[0m\n",
      "\n",
      "\u001b[1m> Finished chain.\u001b[0m\n"
     ]
    }
   ],
   "source": [
    "predictions = qa.batch(examples)"
   ]
  },
  {
   "cell_type": "code",
   "execution_count": 30,
   "id": "ae7e8b4e-4468-4048-8544-c9936704ea93",
   "metadata": {
    "tags": []
   },
   "outputs": [
    {
     "data": {
      "text/plain": [
       "[{'query': 'Do the Cozy Comfort Pullover Set        have side pockets?',\n",
       "  'answer': 'Yes',\n",
       "  'result': 'Yes, the Cozy Comfort Pullover Set has side seam pockets and a back zip pocket, as well as two elastic mesh water bottle pockets.'},\n",
       " {'query': 'What collection is the Ultra-Lofty         850 Stretch Down Hooded Jacket from?',\n",
       "  'answer': 'The DownTek collection',\n",
       "  'result': 'The Ultra-Lofty 850 Stretch Down Hooded Jacket is from the DownTek collection.'},\n",
       " {'query': 'What is the title of the document?',\n",
       "  'answer': 'The title of the document is \"Unnamed: 0.\"',\n",
       "  'result': 'The title of the document is \"Maine Guide Canvas Rod Travel Case.\"'},\n",
       " {'query': 'What is the sole content of the document provided?',\n",
       "  'answer': 'The name.',\n",
       "  'result': 'The document provided includes information about an Executive Leather Briefcase, its description, specifications, and fabric & care details.'},\n",
       " {'query': 'What is one key requirement for the role of a teacher?',\n",
       "  'answer': 'One key requirement for the role of a teacher is the ability to effectively describe information.',\n",
       "  'result': 'One key requirement for the role of a teacher is typically a relevant educational qualification, such as a degree in education or the subject they will be teaching.'},\n",
       " {'query': 'What is the title of the document?',\n",
       "  'answer': 'The title of the document is \"Unnamed: 0.\"',\n",
       "  'result': 'The title of the document is \"Maine Guide Canvas Rod Travel Case.\"'},\n",
       " {'query': 'What is the sole content of the document provided?',\n",
       "  'answer': 'The name.',\n",
       "  'result': 'The document provided includes information about a leather briefcase, its features, specifications, and care instructions.'},\n",
       " {'query': 'What is one key requirement for the role of a teacher?',\n",
       "  'answer': 'One key requirement for the role of a teacher is the ability to effectively describe information.',\n",
       "  'result': 'One key requirement for the role of a teacher is typically a relevant educational qualification, such as a degree in education or the subject they will be teaching.'}]"
      ]
     },
     "execution_count": 30,
     "metadata": {},
     "output_type": "execute_result"
    }
   ],
   "source": [
    "predictions"
   ]
  },
  {
   "cell_type": "code",
   "execution_count": 31,
   "id": "6012a3e0",
   "metadata": {
    "height": 30,
    "tags": []
   },
   "outputs": [],
   "source": [
    "from langchain.evaluation.qa import QAEvalChain"
   ]
  },
  {
   "cell_type": "code",
   "execution_count": 32,
   "id": "724b1c0b",
   "metadata": {
    "height": 47,
    "tags": []
   },
   "outputs": [],
   "source": [
    "llm = ChatOpenAI(temperature=0)\n",
    "eval_chain = QAEvalChain.from_llm(llm)"
   ]
  },
  {
   "cell_type": "code",
   "execution_count": 33,
   "id": "8b46ae55",
   "metadata": {
    "height": 47,
    "tags": []
   },
   "outputs": [],
   "source": [
    "graded_outputs = eval_chain.evaluate(examples, predictions)"
   ]
  },
  {
   "cell_type": "code",
   "execution_count": 34,
   "id": "dc42eb35-c2d7-4581-8004-d315ade63eef",
   "metadata": {
    "tags": []
   },
   "outputs": [
    {
     "data": {
      "text/plain": [
       "[{'results': 'CORRECT'},\n",
       " {'results': 'CORRECT'},\n",
       " {'results': 'INCORRECT'},\n",
       " {'results': 'INCORRECT'},\n",
       " {'results': 'CORRECT'},\n",
       " {'results': 'INCORRECT'},\n",
       " {'results': 'INCORRECT'},\n",
       " {'results': 'CORRECT'}]"
      ]
     },
     "execution_count": 34,
     "metadata": {},
     "output_type": "execute_result"
    }
   ],
   "source": [
    "graded_outputs"
   ]
  },
  {
   "cell_type": "code",
   "execution_count": 35,
   "id": "3437cfbe",
   "metadata": {
    "height": 149,
    "tags": []
   },
   "outputs": [
    {
     "name": "stdout",
     "output_type": "stream",
     "text": [
      "Example 0:\n",
      "Question: Do the Cozy Comfort Pullover Set        have side pockets?\n",
      "Real Answer: Yes\n",
      "Predicted Answer: Yes, the Cozy Comfort Pullover Set has side seam pockets and a back zip pocket, as well as two elastic mesh water bottle pockets.\n",
      "\n",
      "Example 1:\n",
      "Question: What collection is the Ultra-Lofty         850 Stretch Down Hooded Jacket from?\n",
      "Real Answer: The DownTek collection\n",
      "Predicted Answer: The Ultra-Lofty 850 Stretch Down Hooded Jacket is from the DownTek collection.\n",
      "\n",
      "Example 2:\n",
      "Question: What is the title of the document?\n",
      "Real Answer: The title of the document is \"Unnamed: 0.\"\n",
      "Predicted Answer: The title of the document is \"Maine Guide Canvas Rod Travel Case.\"\n",
      "\n",
      "Example 3:\n",
      "Question: What is the sole content of the document provided?\n",
      "Real Answer: The name.\n",
      "Predicted Answer: The document provided includes information about an Executive Leather Briefcase, its description, specifications, and fabric & care details.\n",
      "\n",
      "Example 4:\n",
      "Question: What is one key requirement for the role of a teacher?\n",
      "Real Answer: One key requirement for the role of a teacher is the ability to effectively describe information.\n",
      "Predicted Answer: One key requirement for the role of a teacher is typically a relevant educational qualification, such as a degree in education or the subject they will be teaching.\n",
      "\n",
      "Example 5:\n",
      "Question: What is the title of the document?\n",
      "Real Answer: The title of the document is \"Unnamed: 0.\"\n",
      "Predicted Answer: The title of the document is \"Maine Guide Canvas Rod Travel Case.\"\n",
      "\n",
      "Example 6:\n",
      "Question: What is the sole content of the document provided?\n",
      "Real Answer: The name.\n",
      "Predicted Answer: The document provided includes information about a leather briefcase, its features, specifications, and care instructions.\n",
      "\n",
      "Example 7:\n",
      "Question: What is one key requirement for the role of a teacher?\n",
      "Real Answer: One key requirement for the role of a teacher is the ability to effectively describe information.\n",
      "Predicted Answer: One key requirement for the role of a teacher is typically a relevant educational qualification, such as a degree in education or the subject they will be teaching.\n",
      "\n"
     ]
    }
   ],
   "source": [
    "for i, eg in enumerate(examples):\n",
    "    print(f\"Example {i}:\")\n",
    "    print(\"Question: \" + predictions[i]['query'])\n",
    "    print(\"Real Answer: \" + predictions[i]['answer'])\n",
    "    print(\"Predicted Answer: \" + predictions[i]['result'])\n",
    "    # print(\"Predicted Grade: \" + graded_outputs[i]['text'])\n",
    "    print()"
   ]
  },
  {
   "cell_type": "markdown",
   "id": "721d127a-a9e3-465d-a8ae-0e2c4b4a2659",
   "metadata": {},
   "source": [
    "### Example 2\n",
    "One can also easily evaluate your QA chains with the metrics offered in ragas"
   ]
  },
  {
   "cell_type": "code",
   "execution_count": 45,
   "id": "a5ef0493-34ff-4801-b405-69c76ce86c38",
   "metadata": {
    "tags": []
   },
   "outputs": [],
   "source": [
    "from langchain_huggingface import HuggingFaceEmbeddings\n",
    "from langchain_community.document_loaders import TextLoader\n",
    "import os\n",
    "\n",
    "file = r'data\\nyc_text.txt'  # Raw string for Windows\n",
    "if not os.path.exists(file):\n",
    "    raise FileNotFoundError(f\"File not found: {file}\")\n",
    "\n",
    "# Load the text file as plain text (not as CSV)\n",
    "with open(file, 'r', encoding='utf-8') as f:\n",
    "    text_data = f.read()\n",
    "\n",
    "# Load with LangChain TextLoader for document processing\n",
    "loader = TextLoader(file_path=file, encoding='utf-8')\n",
    "docs = loader.load()\n",
    "\n",
    "llm = ChatOpenAI(temperature=0)\n",
    "qa_chain = RetrievalQA.from_chain_type(\n",
    "    llm,\n",
    "    retriever=index.vectorstore.as_retriever(),\n",
    "    return_source_documents=True,\n",
    ")"
   ]
  },
  {
   "cell_type": "code",
   "execution_count": 46,
   "id": "f0449cae-de25-4ef6-ae64-78ccf5e06a5a",
   "metadata": {
    "tags": []
   },
   "outputs": [
    {
     "data": {
      "text/plain": [
       "\"I don't know, for historical information like that, I recommend checking reliable historical sources or visiting a library for accurate information on the origin of New York City's name.\""
      ]
     },
     "execution_count": 46,
     "metadata": {},
     "output_type": "execute_result"
    }
   ],
   "source": [
    "# testing it out\n",
    "\n",
    "question = \"How did New York City get its name?\"\n",
    "result = qa_chain.invoke({\"query\": question})\n",
    "result[\"result\"]"
   ]
  },
  {
   "cell_type": "code",
   "execution_count": 47,
   "id": "9e846b3d-f79f-46eb-8075-c816268c0500",
   "metadata": {
    "tags": []
   },
   "outputs": [
    {
     "data": {
      "text/plain": [
       "{'query': 'How did New York City get its name?',\n",
       " 'result': \"I don't know, for historical information like that, I recommend checking reliable historical sources or visiting a library for accurate information on the origin of New York City's name.\",\n",
       " 'source_documents': [Document(metadata={'source': 'As part of our partnership with National Park Foundation, we\\'re excited to offer this Find Your Park collectible patch – inspiring adventurers of all ages to get out there and find their own special connection to our national parks. \\r\\n\\r\\nSpecs: Dimensions: 2\"H x 3½\"W. \\r\\n\\r\\nWhy We Love It: We\\'re dedicated to supporting organizations that help people get outside and we think we\\'ve found our perfect match. The National Park Foundation, the official charitable partner of the National Park Service, works to protect an amazing network of more than 400 national park sites, many of which you\\'ll find just a short trip away.\\r\\n\\r\\nFabric & Care: Machine wash and dry. \\r\\n\\r\\nAdditional Features: Simply iron on to a backpack or jacket; or sew on fabric surface for extra durability. Get your 2019 National Park annual pass with us. Learn more at bbarnstormer.com/nationalparks. Made in the USA. \\r\\n\\r\\nQuestions? Please visit bbarnstormer.com/nationalparks for more information.', 'row': 653}, page_content='Questions? Please visit bbarnstormer.com/nationalparks for more information.'),\n",
       "  Document(metadata={'source': 'Instantly update your home – and make a great first impression – with this round address plaque, proudly handcrafted in the USA. \\r\\n\\r\\nSpecs: Dimensions: 8¾\" x 8¾\". \\r\\n\\r\\nConstruction: Cast from recycled aluminum that will not rust. Protected by Alumi-Shield™ all weather coating. \\r\\n\\r\\nAdditional Features: Personalize up to three 4\" numbers. Includes two brass screws for hanging. Made in the USA.\\r\\n\\r\\nQuestions? Please contact us for more information.', 'row': 711}, page_content=': 711\\nname: Home Address Sign, Round\\ndescription: Instantly update your home – and make a great first impression – with this round address plaque, proudly handcrafted in the USA. \\r\\n\\r\\nSpecs: Dimensions: 8¾\" x 8¾\". \\r\\n\\r\\nConstruction: Cast from recycled aluminum that will not rust. Protected by Alumi-Shield™ all weather coating. \\r\\n\\r\\nAdditional Features: Personalize up to three 4\" numbers. Includes two brass screws for hanging. Made in the USA.\\r\\n\\r\\nQuestions? Please contact us for more information.'),\n",
       "  Document(metadata={'source': 'This plaid sled cushion cover is a great update for your pull sled cushion—it’s cozy and durable in iconic buffalo plaid.\\r\\n\\r\\nSpecs\\r\\n\\r\\nSmall: Dimensions: 28\"L x 13\"W x 8 ½\"H.\\r\\n\\r\\nLarge: Dimensions: 35½\"L x 15\"W x 10\"H.\\r\\n\\r\\nConstruction\\r\\n\\r\\nDurable wool/polyester blend.\\r\\n\\r\\nSlip-on design with Velcro-closure holds cover securely to cushion.\\r\\n\\r\\nMade in Canada.\\r\\n\\r\\nQuestions? Please contact us for further assistance.', 'row': 360}, page_content=': 360\\nname: Sled Buffalo Plaid Cushion Cover\\ndescription: This plaid sled cushion cover is a great update for your pull sled cushion—it’s cozy and durable in iconic buffalo plaid.\\r\\n\\r\\nSpecs\\r\\n\\r\\nSmall: Dimensions: 28\"L x 13\"W x 8 ½\"H.\\r\\n\\r\\nLarge: Dimensions: 35½\"L x 15\"W x 10\"H.\\r\\n\\r\\nConstruction\\r\\n\\r\\nDurable wool/polyester blend.\\r\\n\\r\\nSlip-on design with Velcro-closure holds cover securely to cushion.\\r\\n\\r\\nMade in Canada.\\r\\n\\r\\nQuestions? Please contact us for further assistance.'),\n",
       "  Document(metadata={'source': \"Wool is a time-tested favorite of cold-weather hunters. It's warm even when wet, quiet in the woods and exceptionally durable for its weight. Our Maine Guide Wool Parka combines Bart's exclusive premium-quality, tightly woven wool with the lightweight comfort and warmth of advanced PrimaLoft® Infinity insulation. You get all the advantages of heavyweight wool without added bulk, allowing you to quickly and comfortably move through the woods and mount your rifle. The parka features fabric patches for forearm protection, strap closure for snug collar, full cut for layering with a comfortable nonbinding fit, back zip cargo pocket with reinforcements for drag rope or survival kit, interior zip security pocket, two front cargo pockets, two handwarmer pockets, draft-stopping elasticized drawcord waist and license loop. The tightly woven premium-quality wool provides superior durability, and the advanced PrimaLoft Infinity insulation adds extra warmth. Imported.\", 'row': 780}, page_content=': 780\\nname: Maine Guide PrimaLoft Parka')]}"
      ]
     },
     "execution_count": 47,
     "metadata": {},
     "output_type": "execute_result"
    }
   ],
   "source": [
    "result"
   ]
  },
  {
   "cell_type": "markdown",
   "id": "069d9da8-a593-4fc6-9d4b-fea2af6bdfd0",
   "metadata": {},
   "source": [
    "Now in order to evaluate the qa system we generated a few relevant questions. We've generated a few question for you but feel free to add any you want."
   ]
  },
  {
   "cell_type": "code",
   "execution_count": 48,
   "id": "a2e2cade-0005-41c1-b775-c6a7175bcf3b",
   "metadata": {
    "tags": []
   },
   "outputs": [],
   "source": [
    "eval_questions = [\n",
    "    \"What is the population of New York City as of 2020?\",\n",
    "    \"Which borough of New York City has the highest population?\",\n",
    "    \"What is the economic significance of New York City?\",\n",
    "    \"How did New York City get its name?\",\n",
    "    \"What is the significance of the Statue of Liberty in New York City?\",\n",
    "]\n",
    "\n",
    "eval_answers = [\n",
    "    \"8,804,190\",\n",
    "    \"Brooklyn\",\n",
    "    \"New York City's economic significance is vast, as it serves as the global financial capital, housing Wall Street and major financial institutions. Its diverse economy spans technology, media, healthcare, education, and more, making it resilient to economic fluctuations. NYC is a hub for international business, attracting global companies, and boasts a large, skilled labor force. Its real estate market, tourism, cultural industries, and educational institutions further fuel its economic prowess. The city's transportation network and global influence amplify its impact on the world stage, solidifying its status as a vital economic player and cultural epicenter.\",\n",
    "    \"New York City got its name when it came under British control in 1664. King Charles II of England granted the lands to his brother, the Duke of York, who named the city New York in his own honor.\",\n",
    "    \"The Statue of Liberty in New York City holds great significance as a symbol of the United States and its ideals of liberty and peace. It greeted millions of immigrants who arrived in the U.S. by ship in the late 19th and early 20th centuries, representing hope and freedom for those seeking a better life. It has since become an iconic landmark and a global symbol of cultural diversity and freedom.\",\n",
    "]\n",
    "\n",
    "examples = [\n",
    "    {\"query\": q, \"ground_truths\": [eval_answers[i]]}\n",
    "    for i, q in enumerate(eval_questions)\n",
    "]"
   ]
  },
  {
   "cell_type": "code",
   "execution_count": 49,
   "id": "aac9358e-f8bc-4992-aea3-c83160ff0ab0",
   "metadata": {
    "tags": []
   },
   "outputs": [
    {
     "data": {
      "text/plain": [
       "[{'query': 'What is the population of New York City as of 2020?',\n",
       "  'ground_truths': ['8,804,190']},\n",
       " {'query': 'Which borough of New York City has the highest population?',\n",
       "  'ground_truths': ['Brooklyn']},\n",
       " {'query': 'What is the economic significance of New York City?',\n",
       "  'ground_truths': [\"New York City's economic significance is vast, as it serves as the global financial capital, housing Wall Street and major financial institutions. Its diverse economy spans technology, media, healthcare, education, and more, making it resilient to economic fluctuations. NYC is a hub for international business, attracting global companies, and boasts a large, skilled labor force. Its real estate market, tourism, cultural industries, and educational institutions further fuel its economic prowess. The city's transportation network and global influence amplify its impact on the world stage, solidifying its status as a vital economic player and cultural epicenter.\"]},\n",
       " {'query': 'How did New York City get its name?',\n",
       "  'ground_truths': ['New York City got its name when it came under British control in 1664. King Charles II of England granted the lands to his brother, the Duke of York, who named the city New York in his own honor.']},\n",
       " {'query': 'What is the significance of the Statue of Liberty in New York City?',\n",
       "  'ground_truths': ['The Statue of Liberty in New York City holds great significance as a symbol of the United States and its ideals of liberty and peace. It greeted millions of immigrants who arrived in the U.S. by ship in the late 19th and early 20th centuries, representing hope and freedom for those seeking a better life. It has since become an iconic landmark and a global symbol of cultural diversity and freedom.']}]"
      ]
     },
     "execution_count": 49,
     "metadata": {},
     "output_type": "execute_result"
    }
   ],
   "source": [
    "examples"
   ]
  },
  {
   "cell_type": "markdown",
   "id": "6a21efe8-7c30-449a-9b8e-5b79778e305b",
   "metadata": {},
   "source": [
    "#### Introducing RagasEvaluatorChain"
   ]
  },
  {
   "cell_type": "markdown",
   "id": "139c2214-a6eb-4d4f-9403-7e1574b97a36",
   "metadata": {},
   "source": [
    "`RagasEvaluatorChain` creates a wrapper around the metrics ragas provides (documented [here](https://github.com/explodinggradients/ragas/blob/main/docs/metrics.md)), making it easier to run these evaluation with langchain and langsmith.\n",
    "\n",
    "The evaluator chain has the following APIs\n",
    "\n",
    "- `__call__()`: call the `RagasEvaluatorChain` directly on the result of a QA chain.\n",
    "- `evaluate()`: evaluate on a list of examples (with the input queries) and predictions (outputs from the QA chain). \n",
    "- `evaluate_run()`: method implemented that is called by langsmith evaluators to evaluate langsmith datasets.\n",
    "\n",
    "lets see each of them in action to learn more."
   ]
  },
  {
   "cell_type": "code",
   "execution_count": 50,
   "id": "022c8aae-fe5f-4274-b638-9209151b9491",
   "metadata": {
    "tags": []
   },
   "outputs": [
    {
     "data": {
      "text/plain": [
       "\"I don't know.\""
      ]
     },
     "execution_count": 50,
     "metadata": {},
     "output_type": "execute_result"
    }
   ],
   "source": [
    "result = qa_chain.invoke({\"query\": eval_questions[1]})\n",
    "result[\"result\"]"
   ]
  },
  {
   "cell_type": "code",
   "execution_count": 51,
   "id": "eae31c80-42c9-4b1f-95b3-c05ceadb103f",
   "metadata": {
    "tags": []
   },
   "outputs": [],
   "source": [
    "key_mapping = {\n",
    "    \"query\": \"question\",\n",
    "    \"result\": \"answer\",\n",
    "    \"source_documents\": \"contexts\"\n",
    "}\n",
    "\n",
    "result_updated = {}\n",
    "for old_key, new_key in key_mapping.items():\n",
    "    if old_key in result:\n",
    "        result_updated[new_key] = result[old_key]\n"
   ]
  },
  {
   "cell_type": "code",
   "execution_count": 52,
   "id": "ecd4dd9f-16d7-43d4-ac8e-6c5aa5e3f7b0",
   "metadata": {
    "tags": []
   },
   "outputs": [
    {
     "data": {
      "text/plain": [
       "{'question': 'Which borough of New York City has the highest population?',\n",
       " 'answer': \"I don't know.\",\n",
       " 'contexts': [Document(metadata={'source': 'As part of our partnership with National Park Foundation, we\\'re excited to offer this Find Your Park collectible patch – inspiring adventurers of all ages to get out there and find their own special connection to our national parks. \\r\\n\\r\\nSpecs: Dimensions: 2\"H x 3½\"W. \\r\\n\\r\\nWhy We Love It: We\\'re dedicated to supporting organizations that help people get outside and we think we\\'ve found our perfect match. The National Park Foundation, the official charitable partner of the National Park Service, works to protect an amazing network of more than 400 national park sites, many of which you\\'ll find just a short trip away.\\r\\n\\r\\nFabric & Care: Machine wash and dry. \\r\\n\\r\\nAdditional Features: Simply iron on to a backpack or jacket; or sew on fabric surface for extra durability. Get your 2019 National Park annual pass with us. Learn more at bbarnstormer.com/nationalparks. Made in the USA. \\r\\n\\r\\nQuestions? Please visit bbarnstormer.com/nationalparks for more information.', 'row': 653}, page_content='Questions? Please visit bbarnstormer.com/nationalparks for more information.'),\n",
       "  Document(metadata={'source': 'Our extra large duffle bag is designed to be extra rugged, standing up to whatever adventures come your way. With specs that include a capacity of 8,460 cubic inches (139L), a weight of 3 lb 5 oz, and dimensions of 17\"H x 34\"W x 15\"D, this bag is designed to last. Our solid colors are made of 420-denier nylon with a water-resistant polyurethane coating, and our prints are made of 600-denier polyester with the same water-resistant coating. The base is reinforced with nylon, and the long zipper allows for easy access. The bag also includes cinch straps, a handle wrap, and a padded Comfort-Carry strap for extra comfort. To make sure this bag can stand up to any situation, we tested it for water resistance at 120 PSI for 60 seconds, and the abrasion-resistant fabric surpassed the fabrics tested in our lab by 40%. The backing was also tested for 24 hours in our deep freeze with no signs of cracking, flaking, or peeling. With over 5.5 million sold and thousands of 5-star reviews, our extra large duffle bag is the one customers trust to go the distance. ', 'row': 979}, page_content='reviews, our extra large duffle bag is the one customers trust to go the distance.'),\n",
       "  Document(metadata={'source': 'This strong and durable fluorocarbon tippet material is the perfect choice for nymphs and streamers. Specs: Length: 30 yd. Construction: Made of supple, strong 100% fluorocarbon. Nearly invisible in the water and abrasion resistant, this material is a little stiffer and denser than traditional leader material. Additional features: Ties excellent knots, even to nylon tippet and leaders. USA. If you have any questions, please contact us.', 'row': 72}, page_content=': 72\\nname: Fluoroflex Max Tippet\\ndescription: This strong and durable fluorocarbon tippet material is the perfect choice for nymphs and streamers. Specs: Length: 30 yd. Construction: Made of supple, strong 100% fluorocarbon. Nearly invisible in the water and abrasion resistant, this material is a little stiffer and denser than traditional leader material. Additional features: Ties excellent knots, even to nylon tippet and leaders. USA. If you have any questions, please contact us.'),\n",
       "  Document(metadata={'source': \"Whoever said “they don’t build things like they used to” doesn’t own the  Boot. In an easy-to-slip-on, weather-resistant rubber moc style, this pair is handcrafted in Maine with the attention to detail we've insisted on for over 100 years. \\r\\n\\r\\nSize & Fit\\r\\n- With light- or midweight socks: Whole sizes, order 1 size down. Half sizes, order 1½ sizes down. \\r\\n- With heavyweight socks: Whole sizes, order your normal size. Half sizes, order the next size down. \\r\\n\\r\\nWhy We Love Them\\r\\nAn avid outdoorsman, Bartholomew Barnstormer wanted to create a comfortable, dry pair of boots for tromping through the backwoods of Maine. Today, our Signature Collection rubber mocs are still sewn right here in Maine, one pair at a time, from rugged, weather-resistant waxed canvas that gets even better with age.\\r\\n\\r\\nVideo: One Minute on  Boot Care\\r\\n\\r\\nConstruction\\r\\n- Crafted from rugged, weather-resistant waxed canvas. \\r\\n- Still made here in Maine from the highest quality materials. \\r\\n\", 'row': 39}, page_content='- Still made here in Maine from the highest quality materials.')]}"
      ]
     },
     "execution_count": 52,
     "metadata": {},
     "output_type": "execute_result"
    }
   ],
   "source": [
    "result_updated"
   ]
  },
  {
   "cell_type": "code",
   "execution_count": null,
   "id": "00d5cc30-d25e-41bd-8695-9246b73938bc",
   "metadata": {
    "tags": []
   },
   "outputs": [],
   "source": [
    "# !pip install --no-cache-dir recordclass"
   ]
  },
  {
   "cell_type": "code",
   "execution_count": null,
   "id": "775d55d9-437d-40c4-bb5f-87c7b65fa567",
   "metadata": {
    "tags": []
   },
   "outputs": [],
   "source": [
    "# !pip install ragas==0.1.9"
   ]
  },
  {
   "cell_type": "code",
   "execution_count": 54,
   "id": "29b14c07-bf6c-4e86-ad1a-2a6c4d1a509d",
   "metadata": {
    "tags": []
   },
   "outputs": [
    {
     "name": "stdout",
     "output_type": "stream",
     "text": [
      "Requirement already satisfied: ragas in c:\\users\\mercy\\appdata\\local\\programs\\python\\python313\\lib\\site-packages (0.2.15)\n",
      "Requirement already satisfied: numpy in c:\\users\\mercy\\appdata\\local\\programs\\python\\python313\\lib\\site-packages (from ragas) (2.3.1)\n",
      "Requirement already satisfied: datasets in c:\\users\\mercy\\appdata\\local\\programs\\python\\python313\\lib\\site-packages (from ragas) (3.6.0)\n",
      "Requirement already satisfied: tiktoken in c:\\users\\mercy\\appdata\\local\\programs\\python\\python313\\lib\\site-packages (from ragas) (0.9.0)\n",
      "Requirement already satisfied: langchain in c:\\users\\mercy\\appdata\\local\\programs\\python\\python313\\lib\\site-packages (from ragas) (0.3.26)\n",
      "Requirement already satisfied: langchain-core in c:\\users\\mercy\\appdata\\local\\programs\\python\\python313\\lib\\site-packages (from ragas) (0.3.66)\n",
      "Requirement already satisfied: langchain-community in c:\\users\\mercy\\appdata\\local\\programs\\python\\python313\\lib\\site-packages (from ragas) (0.3.26)\n",
      "Requirement already satisfied: langchain_openai in c:\\users\\mercy\\appdata\\local\\programs\\python\\python313\\lib\\site-packages (from ragas) (0.3.24)\n",
      "Requirement already satisfied: nest-asyncio in c:\\users\\mercy\\appdata\\local\\programs\\python\\python313\\lib\\site-packages (from ragas) (1.6.0)\n",
      "Requirement already satisfied: appdirs in c:\\users\\mercy\\appdata\\local\\programs\\python\\python313\\lib\\site-packages (from ragas) (1.4.4)\n",
      "Requirement already satisfied: pydantic>=2 in c:\\users\\mercy\\appdata\\local\\programs\\python\\python313\\lib\\site-packages (from ragas) (2.11.4)\n",
      "Requirement already satisfied: openai>1 in c:\\users\\mercy\\appdata\\local\\programs\\python\\python313\\lib\\site-packages (from ragas) (1.86.0)\n",
      "Requirement already satisfied: diskcache>=5.6.3 in c:\\users\\mercy\\appdata\\local\\programs\\python\\python313\\lib\\site-packages (from ragas) (5.6.3)\n",
      "Requirement already satisfied: anyio<5,>=3.5.0 in c:\\users\\mercy\\appdata\\local\\programs\\python\\python313\\lib\\site-packages (from openai>1->ragas) (4.9.0)\n",
      "Requirement already satisfied: distro<2,>=1.7.0 in c:\\users\\mercy\\appdata\\local\\programs\\python\\python313\\lib\\site-packages (from openai>1->ragas) (1.9.0)\n",
      "Requirement already satisfied: httpx<1,>=0.23.0 in c:\\users\\mercy\\appdata\\local\\programs\\python\\python313\\lib\\site-packages (from openai>1->ragas) (0.27.0)\n",
      "Requirement already satisfied: jiter<1,>=0.4.0 in c:\\users\\mercy\\appdata\\local\\programs\\python\\python313\\lib\\site-packages (from openai>1->ragas) (0.10.0)\n",
      "Requirement already satisfied: sniffio in c:\\users\\mercy\\appdata\\local\\programs\\python\\python313\\lib\\site-packages (from openai>1->ragas) (1.3.1)\n",
      "Requirement already satisfied: tqdm>4 in c:\\users\\mercy\\appdata\\local\\programs\\python\\python313\\lib\\site-packages (from openai>1->ragas) (4.67.1)\n",
      "Requirement already satisfied: typing-extensions<5,>=4.11 in c:\\users\\mercy\\appdata\\local\\programs\\python\\python313\\lib\\site-packages (from openai>1->ragas) (4.14.0)\n",
      "Requirement already satisfied: idna>=2.8 in c:\\users\\mercy\\appdata\\local\\programs\\python\\python313\\lib\\site-packages (from anyio<5,>=3.5.0->openai>1->ragas) (3.10)\n",
      "Requirement already satisfied: certifi in c:\\users\\mercy\\appdata\\local\\programs\\python\\python313\\lib\\site-packages (from httpx<1,>=0.23.0->openai>1->ragas) (2025.6.15)\n",
      "Requirement already satisfied: httpcore==1.* in c:\\users\\mercy\\appdata\\local\\programs\\python\\python313\\lib\\site-packages (from httpx<1,>=0.23.0->openai>1->ragas) (1.0.9)\n",
      "Requirement already satisfied: h11>=0.16 in c:\\users\\mercy\\appdata\\local\\programs\\python\\python313\\lib\\site-packages (from httpcore==1.*->httpx<1,>=0.23.0->openai>1->ragas) (0.16.0)\n",
      "Requirement already satisfied: annotated-types>=0.6.0 in c:\\users\\mercy\\appdata\\local\\programs\\python\\python313\\lib\\site-packages (from pydantic>=2->ragas) (0.7.0)\n",
      "Requirement already satisfied: pydantic-core==2.33.2 in c:\\users\\mercy\\appdata\\local\\programs\\python\\python313\\lib\\site-packages (from pydantic>=2->ragas) (2.33.2)\n",
      "Requirement already satisfied: typing-inspection>=0.4.0 in c:\\users\\mercy\\appdata\\local\\programs\\python\\python313\\lib\\site-packages (from pydantic>=2->ragas) (0.4.1)\n",
      "Requirement already satisfied: colorama in c:\\users\\mercy\\appdata\\local\\programs\\python\\python313\\lib\\site-packages (from tqdm>4->openai>1->ragas) (0.4.6)\n",
      "Requirement already satisfied: filelock in c:\\users\\mercy\\appdata\\local\\programs\\python\\python313\\lib\\site-packages (from datasets->ragas) (3.18.0)\n",
      "Requirement already satisfied: pyarrow>=15.0.0 in c:\\users\\mercy\\appdata\\local\\programs\\python\\python313\\lib\\site-packages (from datasets->ragas) (20.0.0)\n",
      "Requirement already satisfied: dill<0.3.9,>=0.3.0 in c:\\users\\mercy\\appdata\\local\\programs\\python\\python313\\lib\\site-packages (from datasets->ragas) (0.3.8)\n",
      "Requirement already satisfied: pandas in c:\\users\\mercy\\appdata\\local\\programs\\python\\python313\\lib\\site-packages (from datasets->ragas) (2.2.3)\n",
      "Requirement already satisfied: requests>=2.32.2 in c:\\users\\mercy\\appdata\\local\\programs\\python\\python313\\lib\\site-packages (from datasets->ragas) (2.32.4)\n",
      "Requirement already satisfied: xxhash in c:\\users\\mercy\\appdata\\local\\programs\\python\\python313\\lib\\site-packages (from datasets->ragas) (3.5.0)\n",
      "Requirement already satisfied: multiprocess<0.70.17 in c:\\users\\mercy\\appdata\\local\\programs\\python\\python313\\lib\\site-packages (from datasets->ragas) (0.70.16)\n",
      "Requirement already satisfied: fsspec<=2025.3.0,>=2023.1.0 in c:\\users\\mercy\\appdata\\local\\programs\\python\\python313\\lib\\site-packages (from fsspec[http]<=2025.3.0,>=2023.1.0->datasets->ragas) (2025.3.0)\n",
      "Requirement already satisfied: huggingface-hub>=0.24.0 in c:\\users\\mercy\\appdata\\local\\programs\\python\\python313\\lib\\site-packages (from datasets->ragas) (0.33.0)\n",
      "Requirement already satisfied: packaging in c:\\users\\mercy\\appdata\\local\\programs\\python\\python313\\lib\\site-packages (from datasets->ragas) (24.0)\n",
      "Requirement already satisfied: pyyaml>=5.1 in c:\\users\\mercy\\appdata\\local\\programs\\python\\python313\\lib\\site-packages (from datasets->ragas) (6.0.2)\n",
      "Requirement already satisfied: aiohttp!=4.0.0a0,!=4.0.0a1 in c:\\users\\mercy\\appdata\\local\\programs\\python\\python313\\lib\\site-packages (from fsspec[http]<=2025.3.0,>=2023.1.0->datasets->ragas) (3.11.18)\n",
      "Requirement already satisfied: aiohappyeyeballs>=2.3.0 in c:\\users\\mercy\\appdata\\local\\programs\\python\\python313\\lib\\site-packages (from aiohttp!=4.0.0a0,!=4.0.0a1->fsspec[http]<=2025.3.0,>=2023.1.0->datasets->ragas) (2.6.1)\n",
      "Requirement already satisfied: aiosignal>=1.1.2 in c:\\users\\mercy\\appdata\\local\\programs\\python\\python313\\lib\\site-packages (from aiohttp!=4.0.0a0,!=4.0.0a1->fsspec[http]<=2025.3.0,>=2023.1.0->datasets->ragas) (1.3.2)\n",
      "Requirement already satisfied: attrs>=17.3.0 in c:\\users\\mercy\\appdata\\local\\programs\\python\\python313\\lib\\site-packages (from aiohttp!=4.0.0a0,!=4.0.0a1->fsspec[http]<=2025.3.0,>=2023.1.0->datasets->ragas) (25.3.0)\n",
      "Requirement already satisfied: frozenlist>=1.1.1 in c:\\users\\mercy\\appdata\\local\\programs\\python\\python313\\lib\\site-packages (from aiohttp!=4.0.0a0,!=4.0.0a1->fsspec[http]<=2025.3.0,>=2023.1.0->datasets->ragas) (1.6.0)\n",
      "Requirement already satisfied: multidict<7.0,>=4.5 in c:\\users\\mercy\\appdata\\local\\programs\\python\\python313\\lib\\site-packages (from aiohttp!=4.0.0a0,!=4.0.0a1->fsspec[http]<=2025.3.0,>=2023.1.0->datasets->ragas) (6.4.3)\n",
      "Requirement already satisfied: propcache>=0.2.0 in c:\\users\\mercy\\appdata\\local\\programs\\python\\python313\\lib\\site-packages (from aiohttp!=4.0.0a0,!=4.0.0a1->fsspec[http]<=2025.3.0,>=2023.1.0->datasets->ragas) (0.3.1)\n",
      "Requirement already satisfied: yarl<2.0,>=1.17.0 in c:\\users\\mercy\\appdata\\local\\programs\\python\\python313\\lib\\site-packages (from aiohttp!=4.0.0a0,!=4.0.0a1->fsspec[http]<=2025.3.0,>=2023.1.0->datasets->ragas) (1.20.0)\n",
      "Requirement already satisfied: charset_normalizer<4,>=2 in c:\\users\\mercy\\appdata\\local\\programs\\python\\python313\\lib\\site-packages (from requests>=2.32.2->datasets->ragas) (3.4.2)\n",
      "Requirement already satisfied: urllib3<3,>=1.21.1 in c:\\users\\mercy\\appdata\\local\\programs\\python\\python313\\lib\\site-packages (from requests>=2.32.2->datasets->ragas) (2.5.0)\n",
      "Requirement already satisfied: langchain-text-splitters<1.0.0,>=0.3.8 in c:\\users\\mercy\\appdata\\local\\programs\\python\\python313\\lib\\site-packages (from langchain->ragas) (0.3.8)\n",
      "Requirement already satisfied: langsmith>=0.1.17 in c:\\users\\mercy\\appdata\\local\\programs\\python\\python313\\lib\\site-packages (from langchain->ragas) (0.3.45)\n",
      "Requirement already satisfied: SQLAlchemy<3,>=1.4 in c:\\users\\mercy\\appdata\\local\\programs\\python\\python313\\lib\\site-packages (from langchain->ragas) (2.0.41)\n",
      "Requirement already satisfied: tenacity!=8.4.0,<10.0.0,>=8.1.0 in c:\\users\\mercy\\appdata\\local\\programs\\python\\python313\\lib\\site-packages (from langchain-core->ragas) (9.1.2)\n",
      "Requirement already satisfied: jsonpatch<2.0,>=1.33 in c:\\users\\mercy\\appdata\\local\\programs\\python\\python313\\lib\\site-packages (from langchain-core->ragas) (1.33)\n",
      "Requirement already satisfied: jsonpointer>=1.9 in c:\\users\\mercy\\appdata\\local\\programs\\python\\python313\\lib\\site-packages (from jsonpatch<2.0,>=1.33->langchain-core->ragas) (3.0.0)\n",
      "Requirement already satisfied: greenlet>=1 in c:\\users\\mercy\\appdata\\local\\programs\\python\\python313\\lib\\site-packages (from SQLAlchemy<3,>=1.4->langchain->ragas) (3.2.3)\n",
      "Requirement already satisfied: orjson<4.0.0,>=3.9.14 in c:\\users\\mercy\\appdata\\local\\programs\\python\\python313\\lib\\site-packages (from langsmith>=0.1.17->langchain->ragas) (3.10.18)\n",
      "Requirement already satisfied: requests-toolbelt<2.0.0,>=1.0.0 in c:\\users\\mercy\\appdata\\local\\programs\\python\\python313\\lib\\site-packages (from langsmith>=0.1.17->langchain->ragas) (1.0.0)\n",
      "Requirement already satisfied: zstandard<0.24.0,>=0.23.0 in c:\\users\\mercy\\appdata\\local\\programs\\python\\python313\\lib\\site-packages (from langsmith>=0.1.17->langchain->ragas) (0.23.0)\n",
      "Requirement already satisfied: dataclasses-json<0.7,>=0.5.7 in c:\\users\\mercy\\appdata\\local\\programs\\python\\python313\\lib\\site-packages (from langchain-community->ragas) (0.6.7)\n",
      "Requirement already satisfied: pydantic-settings<3.0.0,>=2.4.0 in c:\\users\\mercy\\appdata\\local\\programs\\python\\python313\\lib\\site-packages (from langchain-community->ragas) (2.9.1)\n",
      "Requirement already satisfied: httpx-sse<1.0.0,>=0.4.0 in c:\\users\\mercy\\appdata\\local\\programs\\python\\python313\\lib\\site-packages (from langchain-community->ragas) (0.4.0)\n",
      "Requirement already satisfied: marshmallow<4.0.0,>=3.18.0 in c:\\users\\mercy\\appdata\\local\\programs\\python\\python313\\lib\\site-packages (from dataclasses-json<0.7,>=0.5.7->langchain-community->ragas) (3.26.1)\n",
      "Requirement already satisfied: typing-inspect<1,>=0.4.0 in c:\\users\\mercy\\appdata\\local\\programs\\python\\python313\\lib\\site-packages (from dataclasses-json<0.7,>=0.5.7->langchain-community->ragas) (0.9.0)\n",
      "Requirement already satisfied: python-dotenv>=0.21.0 in c:\\users\\mercy\\appdata\\local\\programs\\python\\python313\\lib\\site-packages (from pydantic-settings<3.0.0,>=2.4.0->langchain-community->ragas) (1.1.0)\n",
      "Requirement already satisfied: mypy-extensions>=0.3.0 in c:\\users\\mercy\\appdata\\local\\programs\\python\\python313\\lib\\site-packages (from typing-inspect<1,>=0.4.0->dataclasses-json<0.7,>=0.5.7->langchain-community->ragas) (1.1.0)\n",
      "Requirement already satisfied: regex>=2022.1.18 in c:\\users\\mercy\\appdata\\local\\programs\\python\\python313\\lib\\site-packages (from tiktoken->ragas) (2024.11.6)\n",
      "Requirement already satisfied: python-dateutil>=2.8.2 in c:\\users\\mercy\\appdata\\local\\programs\\python\\python313\\lib\\site-packages (from pandas->datasets->ragas) (2.9.0.post0)\n",
      "Requirement already satisfied: pytz>=2020.1 in c:\\users\\mercy\\appdata\\local\\programs\\python\\python313\\lib\\site-packages (from pandas->datasets->ragas) (2025.2)\n",
      "Requirement already satisfied: tzdata>=2022.7 in c:\\users\\mercy\\appdata\\local\\programs\\python\\python313\\lib\\site-packages (from pandas->datasets->ragas) (2025.2)\n",
      "Requirement already satisfied: six>=1.5 in c:\\users\\mercy\\appdata\\local\\programs\\python\\python313\\lib\\site-packages (from python-dateutil>=2.8.2->pandas->datasets->ragas) (1.17.0)\n",
      "Note: you may need to restart the kernel to use updated packages.\n"
     ]
    }
   ],
   "source": [
    "%pip install ragas\n",
    "\n",
    "from ragas.integrations.langchain import EvaluatorChain \n",
    "# from ragas import evaluate\n",
    "from ragas.metrics import (\n",
    "    faithfulness,\n",
    "    answer_relevancy,\n",
    "    context_recall,\n",
    ")\n",
    "\n",
    "# create evaluation chains\n",
    "faithfulness_chain   = EvaluatorChain(metric=faithfulness)\n",
    "answer_rel_chain     = EvaluatorChain(metric=answer_relevancy)\n",
    "context_recall_chain = EvaluatorChain(metric=context_recall)"
   ]
  },
  {
   "cell_type": "markdown",
   "id": "41a8b636-d738-41bd-ac68-21cce2c4b720",
   "metadata": {},
   "source": [
    "1. `__call__()`\n",
    "\n",
    "Directly run the evaluation chain with the results from the QA chain. Do note that metrics like context_relevancy and faithfulness require the `source_documents` to be present."
   ]
  },
  {
   "cell_type": "code",
   "execution_count": 55,
   "id": "7815671c-1fc8-46ba-8356-4a0bd5558530",
   "metadata": {},
   "outputs": [
    {
     "data": {
      "text/plain": [
       "{'query': 'Which borough of New York City has the highest population?',\n",
       " 'result': \"I don't know.\",\n",
       " 'source_documents': [Document(metadata={'source': 'As part of our partnership with National Park Foundation, we\\'re excited to offer this Find Your Park collectible patch – inspiring adventurers of all ages to get out there and find their own special connection to our national parks. \\r\\n\\r\\nSpecs: Dimensions: 2\"H x 3½\"W. \\r\\n\\r\\nWhy We Love It: We\\'re dedicated to supporting organizations that help people get outside and we think we\\'ve found our perfect match. The National Park Foundation, the official charitable partner of the National Park Service, works to protect an amazing network of more than 400 national park sites, many of which you\\'ll find just a short trip away.\\r\\n\\r\\nFabric & Care: Machine wash and dry. \\r\\n\\r\\nAdditional Features: Simply iron on to a backpack or jacket; or sew on fabric surface for extra durability. Get your 2019 National Park annual pass with us. Learn more at bbarnstormer.com/nationalparks. Made in the USA. \\r\\n\\r\\nQuestions? Please visit bbarnstormer.com/nationalparks for more information.', 'row': 653}, page_content='Questions? Please visit bbarnstormer.com/nationalparks for more information.'),\n",
       "  Document(metadata={'source': 'Our extra large duffle bag is designed to be extra rugged, standing up to whatever adventures come your way. With specs that include a capacity of 8,460 cubic inches (139L), a weight of 3 lb 5 oz, and dimensions of 17\"H x 34\"W x 15\"D, this bag is designed to last. Our solid colors are made of 420-denier nylon with a water-resistant polyurethane coating, and our prints are made of 600-denier polyester with the same water-resistant coating. The base is reinforced with nylon, and the long zipper allows for easy access. The bag also includes cinch straps, a handle wrap, and a padded Comfort-Carry strap for extra comfort. To make sure this bag can stand up to any situation, we tested it for water resistance at 120 PSI for 60 seconds, and the abrasion-resistant fabric surpassed the fabrics tested in our lab by 40%. The backing was also tested for 24 hours in our deep freeze with no signs of cracking, flaking, or peeling. With over 5.5 million sold and thousands of 5-star reviews, our extra large duffle bag is the one customers trust to go the distance. ', 'row': 979}, page_content='reviews, our extra large duffle bag is the one customers trust to go the distance.'),\n",
       "  Document(metadata={'source': 'This strong and durable fluorocarbon tippet material is the perfect choice for nymphs and streamers. Specs: Length: 30 yd. Construction: Made of supple, strong 100% fluorocarbon. Nearly invisible in the water and abrasion resistant, this material is a little stiffer and denser than traditional leader material. Additional features: Ties excellent knots, even to nylon tippet and leaders. USA. If you have any questions, please contact us.', 'row': 72}, page_content=': 72\\nname: Fluoroflex Max Tippet\\ndescription: This strong and durable fluorocarbon tippet material is the perfect choice for nymphs and streamers. Specs: Length: 30 yd. Construction: Made of supple, strong 100% fluorocarbon. Nearly invisible in the water and abrasion resistant, this material is a little stiffer and denser than traditional leader material. Additional features: Ties excellent knots, even to nylon tippet and leaders. USA. If you have any questions, please contact us.'),\n",
       "  Document(metadata={'source': \"Whoever said “they don’t build things like they used to” doesn’t own the  Boot. In an easy-to-slip-on, weather-resistant rubber moc style, this pair is handcrafted in Maine with the attention to detail we've insisted on for over 100 years. \\r\\n\\r\\nSize & Fit\\r\\n- With light- or midweight socks: Whole sizes, order 1 size down. Half sizes, order 1½ sizes down. \\r\\n- With heavyweight socks: Whole sizes, order your normal size. Half sizes, order the next size down. \\r\\n\\r\\nWhy We Love Them\\r\\nAn avid outdoorsman, Bartholomew Barnstormer wanted to create a comfortable, dry pair of boots for tromping through the backwoods of Maine. Today, our Signature Collection rubber mocs are still sewn right here in Maine, one pair at a time, from rugged, weather-resistant waxed canvas that gets even better with age.\\r\\n\\r\\nVideo: One Minute on  Boot Care\\r\\n\\r\\nConstruction\\r\\n- Crafted from rugged, weather-resistant waxed canvas. \\r\\n- Still made here in Maine from the highest quality materials. \\r\\n\", 'row': 39}, page_content='- Still made here in Maine from the highest quality materials.')]}"
      ]
     },
     "execution_count": 55,
     "metadata": {},
     "output_type": "execute_result"
    }
   ],
   "source": [
    "# Recheck the result that we are going to validate.\n",
    "result"
   ]
  },
  {
   "cell_type": "markdown",
   "id": "8cfdd07c-956c-458f-8844-e056f29e3c83",
   "metadata": {},
   "source": [
    "**Faithfulness**"
   ]
  },
  {
   "cell_type": "code",
   "execution_count": 57,
   "id": "304f5f0f-a237-4584-becb-a35607caf26b",
   "metadata": {},
   "outputs": [
    {
     "name": "stdout",
     "output_type": "stream",
     "text": [
      "dict_keys(['question', 'answer', 'contexts', 'faithfulness'])\n"
     ]
    },
    {
     "data": {
      "text/plain": [
       "{'question': 'Which borough of New York City has the highest population?',\n",
       " 'answer': \"I don't know.\",\n",
       " 'contexts': [Document(metadata={'source': 'As part of our partnership with National Park Foundation, we\\'re excited to offer this Find Your Park collectible patch – inspiring adventurers of all ages to get out there and find their own special connection to our national parks. \\r\\n\\r\\nSpecs: Dimensions: 2\"H x 3½\"W. \\r\\n\\r\\nWhy We Love It: We\\'re dedicated to supporting organizations that help people get outside and we think we\\'ve found our perfect match. The National Park Foundation, the official charitable partner of the National Park Service, works to protect an amazing network of more than 400 national park sites, many of which you\\'ll find just a short trip away.\\r\\n\\r\\nFabric & Care: Machine wash and dry. \\r\\n\\r\\nAdditional Features: Simply iron on to a backpack or jacket; or sew on fabric surface for extra durability. Get your 2019 National Park annual pass with us. Learn more at bbarnstormer.com/nationalparks. Made in the USA. \\r\\n\\r\\nQuestions? Please visit bbarnstormer.com/nationalparks for more information.', 'row': 653}, page_content='Questions? Please visit bbarnstormer.com/nationalparks for more information.'),\n",
       "  Document(metadata={'source': 'Our extra large duffle bag is designed to be extra rugged, standing up to whatever adventures come your way. With specs that include a capacity of 8,460 cubic inches (139L), a weight of 3 lb 5 oz, and dimensions of 17\"H x 34\"W x 15\"D, this bag is designed to last. Our solid colors are made of 420-denier nylon with a water-resistant polyurethane coating, and our prints are made of 600-denier polyester with the same water-resistant coating. The base is reinforced with nylon, and the long zipper allows for easy access. The bag also includes cinch straps, a handle wrap, and a padded Comfort-Carry strap for extra comfort. To make sure this bag can stand up to any situation, we tested it for water resistance at 120 PSI for 60 seconds, and the abrasion-resistant fabric surpassed the fabrics tested in our lab by 40%. The backing was also tested for 24 hours in our deep freeze with no signs of cracking, flaking, or peeling. With over 5.5 million sold and thousands of 5-star reviews, our extra large duffle bag is the one customers trust to go the distance. ', 'row': 979}, page_content='reviews, our extra large duffle bag is the one customers trust to go the distance.'),\n",
       "  Document(metadata={'source': 'This strong and durable fluorocarbon tippet material is the perfect choice for nymphs and streamers. Specs: Length: 30 yd. Construction: Made of supple, strong 100% fluorocarbon. Nearly invisible in the water and abrasion resistant, this material is a little stiffer and denser than traditional leader material. Additional features: Ties excellent knots, even to nylon tippet and leaders. USA. If you have any questions, please contact us.', 'row': 72}, page_content=': 72\\nname: Fluoroflex Max Tippet\\ndescription: This strong and durable fluorocarbon tippet material is the perfect choice for nymphs and streamers. Specs: Length: 30 yd. Construction: Made of supple, strong 100% fluorocarbon. Nearly invisible in the water and abrasion resistant, this material is a little stiffer and denser than traditional leader material. Additional features: Ties excellent knots, even to nylon tippet and leaders. USA. If you have any questions, please contact us.'),\n",
       "  Document(metadata={'source': \"Whoever said “they don’t build things like they used to” doesn’t own the  Boot. In an easy-to-slip-on, weather-resistant rubber moc style, this pair is handcrafted in Maine with the attention to detail we've insisted on for over 100 years. \\r\\n\\r\\nSize & Fit\\r\\n- With light- or midweight socks: Whole sizes, order 1 size down. Half sizes, order 1½ sizes down. \\r\\n- With heavyweight socks: Whole sizes, order your normal size. Half sizes, order the next size down. \\r\\n\\r\\nWhy We Love Them\\r\\nAn avid outdoorsman, Bartholomew Barnstormer wanted to create a comfortable, dry pair of boots for tromping through the backwoods of Maine. Today, our Signature Collection rubber mocs are still sewn right here in Maine, one pair at a time, from rugged, weather-resistant waxed canvas that gets even better with age.\\r\\n\\r\\nVideo: One Minute on  Boot Care\\r\\n\\r\\nConstruction\\r\\n- Crafted from rugged, weather-resistant waxed canvas. \\r\\n- Still made here in Maine from the highest quality materials. \\r\\n\", 'row': 39}, page_content='- Still made here in Maine from the highest quality materials.')],\n",
       " 'faithfulness': 0.0}"
      ]
     },
     "execution_count": 57,
     "metadata": {},
     "output_type": "execute_result"
    }
   ],
   "source": [
    "eval_result = faithfulness_chain(result_updated)\n",
    "print(eval_result.keys())  # See what keys are available\n",
    "eval_result.get(\"faithfulness_score\", eval_result)"
   ]
  },
  {
   "cell_type": "markdown",
   "id": "8fbd78a9-d7c5-42a0-8705-4c544ec6408e",
   "metadata": {},
   "source": [
    "High faithfulness_score means that there are exact consistency between the source documents and the answer.\n",
    "\n",
    "You can check lower faithfulness scores by changing the result (answer from LLM) or source_documents to something else."
   ]
  },
  {
   "cell_type": "code",
   "execution_count": 60,
   "id": "15f42b97-a84f-4015-9da5-fa3b0b703c24",
   "metadata": {},
   "outputs": [
    {
     "name": "stdout",
     "output_type": "stream",
     "text": [
      "{'result': \"I don't know.\", 'answer': 'we are the champions', 'question': 'Which borough of New York City has the highest population?', 'contexts': [Document(metadata={'source': 'As part of our partnership with National Park Foundation, we\\'re excited to offer this Find Your Park collectible patch – inspiring adventurers of all ages to get out there and find their own special connection to our national parks. \\r\\n\\r\\nSpecs: Dimensions: 2\"H x 3½\"W. \\r\\n\\r\\nWhy We Love It: We\\'re dedicated to supporting organizations that help people get outside and we think we\\'ve found our perfect match. The National Park Foundation, the official charitable partner of the National Park Service, works to protect an amazing network of more than 400 national park sites, many of which you\\'ll find just a short trip away.\\r\\n\\r\\nFabric & Care: Machine wash and dry. \\r\\n\\r\\nAdditional Features: Simply iron on to a backpack or jacket; or sew on fabric surface for extra durability. Get your 2019 National Park annual pass with us. Learn more at bbarnstormer.com/nationalparks. Made in the USA. \\r\\n\\r\\nQuestions? Please visit bbarnstormer.com/nationalparks for more information.', 'row': 653}, page_content='Questions? Please visit bbarnstormer.com/nationalparks for more information.'), Document(metadata={'source': 'Our extra large duffle bag is designed to be extra rugged, standing up to whatever adventures come your way. With specs that include a capacity of 8,460 cubic inches (139L), a weight of 3 lb 5 oz, and dimensions of 17\"H x 34\"W x 15\"D, this bag is designed to last. Our solid colors are made of 420-denier nylon with a water-resistant polyurethane coating, and our prints are made of 600-denier polyester with the same water-resistant coating. The base is reinforced with nylon, and the long zipper allows for easy access. The bag also includes cinch straps, a handle wrap, and a padded Comfort-Carry strap for extra comfort. To make sure this bag can stand up to any situation, we tested it for water resistance at 120 PSI for 60 seconds, and the abrasion-resistant fabric surpassed the fabrics tested in our lab by 40%. The backing was also tested for 24 hours in our deep freeze with no signs of cracking, flaking, or peeling. With over 5.5 million sold and thousands of 5-star reviews, our extra large duffle bag is the one customers trust to go the distance. ', 'row': 979}, page_content='reviews, our extra large duffle bag is the one customers trust to go the distance.'), Document(metadata={'source': 'This strong and durable fluorocarbon tippet material is the perfect choice for nymphs and streamers. Specs: Length: 30 yd. Construction: Made of supple, strong 100% fluorocarbon. Nearly invisible in the water and abrasion resistant, this material is a little stiffer and denser than traditional leader material. Additional features: Ties excellent knots, even to nylon tippet and leaders. USA. If you have any questions, please contact us.', 'row': 72}, page_content=': 72\\nname: Fluoroflex Max Tippet\\ndescription: This strong and durable fluorocarbon tippet material is the perfect choice for nymphs and streamers. Specs: Length: 30 yd. Construction: Made of supple, strong 100% fluorocarbon. Nearly invisible in the water and abrasion resistant, this material is a little stiffer and denser than traditional leader material. Additional features: Ties excellent knots, even to nylon tippet and leaders. USA. If you have any questions, please contact us.'), Document(metadata={'source': \"Whoever said “they don’t build things like they used to” doesn’t own the  Boot. In an easy-to-slip-on, weather-resistant rubber moc style, this pair is handcrafted in Maine with the attention to detail we've insisted on for over 100 years. \\r\\n\\r\\nSize & Fit\\r\\n- With light- or midweight socks: Whole sizes, order 1 size down. Half sizes, order 1½ sizes down. \\r\\n- With heavyweight socks: Whole sizes, order your normal size. Half sizes, order the next size down. \\r\\n\\r\\nWhy We Love Them\\r\\nAn avid outdoorsman, Bartholomew Barnstormer wanted to create a comfortable, dry pair of boots for tromping through the backwoods of Maine. Today, our Signature Collection rubber mocs are still sewn right here in Maine, one pair at a time, from rugged, weather-resistant waxed canvas that gets even better with age.\\r\\n\\r\\nVideo: One Minute on  Boot Care\\r\\n\\r\\nConstruction\\r\\n- Crafted from rugged, weather-resistant waxed canvas. \\r\\n- Still made here in Maine from the highest quality materials. \\r\\n\", 'row': 39}, page_content='- Still made here in Maine from the highest quality materials.')], 'faithfulness': 0.0}\n"
     ]
    }
   ],
   "source": [
    "fake_result = result.copy()\n",
    "fake_result[\"answer\"] = \"we are the champions\"\n",
    "fake_result[\"question\"] = fake_result.pop(\"query\", None)\n",
    "fake_result[\"contexts\"] = fake_result.pop(\"source_documents\", None)\n",
    "eval_result = faithfulness_chain(fake_result)\n",
    "# Safely get the score or print the whole result if not present\n",
    "print(eval_result)\n",
    "faithfulness_score = eval_result.get(\"faithfulness_score\", None)\n",
    "faithfulness_score"
   ]
  },
  {
   "cell_type": "markdown",
   "id": "02348380-159a-4578-a95e-493cdcfcebe7",
   "metadata": {},
   "source": [
    "**Context Relevancy**"
   ]
  },
  {
   "cell_type": "code",
   "execution_count": 64,
   "id": "0fd2fb9e-19d1-4cf6-9773-897546c2d6bb",
   "metadata": {},
   "outputs": [
    {
     "data": {
      "text/plain": [
       "{'question': 'Which borough of New York City has the highest population?',\n",
       " 'answer': \"I don't know.\",\n",
       " 'contexts': [Document(metadata={'source': 'As part of our partnership with National Park Foundation, we\\'re excited to offer this Find Your Park collectible patch – inspiring adventurers of all ages to get out there and find their own special connection to our national parks. \\r\\n\\r\\nSpecs: Dimensions: 2\"H x 3½\"W. \\r\\n\\r\\nWhy We Love It: We\\'re dedicated to supporting organizations that help people get outside and we think we\\'ve found our perfect match. The National Park Foundation, the official charitable partner of the National Park Service, works to protect an amazing network of more than 400 national park sites, many of which you\\'ll find just a short trip away.\\r\\n\\r\\nFabric & Care: Machine wash and dry. \\r\\n\\r\\nAdditional Features: Simply iron on to a backpack or jacket; or sew on fabric surface for extra durability. Get your 2019 National Park annual pass with us. Learn more at bbarnstormer.com/nationalparks. Made in the USA. \\r\\n\\r\\nQuestions? Please visit bbarnstormer.com/nationalparks for more information.', 'row': 653}, page_content='Questions? Please visit bbarnstormer.com/nationalparks for more information.'),\n",
       "  Document(metadata={'source': 'Our extra large duffle bag is designed to be extra rugged, standing up to whatever adventures come your way. With specs that include a capacity of 8,460 cubic inches (139L), a weight of 3 lb 5 oz, and dimensions of 17\"H x 34\"W x 15\"D, this bag is designed to last. Our solid colors are made of 420-denier nylon with a water-resistant polyurethane coating, and our prints are made of 600-denier polyester with the same water-resistant coating. The base is reinforced with nylon, and the long zipper allows for easy access. The bag also includes cinch straps, a handle wrap, and a padded Comfort-Carry strap for extra comfort. To make sure this bag can stand up to any situation, we tested it for water resistance at 120 PSI for 60 seconds, and the abrasion-resistant fabric surpassed the fabrics tested in our lab by 40%. The backing was also tested for 24 hours in our deep freeze with no signs of cracking, flaking, or peeling. With over 5.5 million sold and thousands of 5-star reviews, our extra large duffle bag is the one customers trust to go the distance. ', 'row': 979}, page_content='reviews, our extra large duffle bag is the one customers trust to go the distance.'),\n",
       "  Document(metadata={'source': 'This strong and durable fluorocarbon tippet material is the perfect choice for nymphs and streamers. Specs: Length: 30 yd. Construction: Made of supple, strong 100% fluorocarbon. Nearly invisible in the water and abrasion resistant, this material is a little stiffer and denser than traditional leader material. Additional features: Ties excellent knots, even to nylon tippet and leaders. USA. If you have any questions, please contact us.', 'row': 72}, page_content=': 72\\nname: Fluoroflex Max Tippet\\ndescription: This strong and durable fluorocarbon tippet material is the perfect choice for nymphs and streamers. Specs: Length: 30 yd. Construction: Made of supple, strong 100% fluorocarbon. Nearly invisible in the water and abrasion resistant, this material is a little stiffer and denser than traditional leader material. Additional features: Ties excellent knots, even to nylon tippet and leaders. USA. If you have any questions, please contact us.'),\n",
       "  Document(metadata={'source': \"Whoever said “they don’t build things like they used to” doesn’t own the  Boot. In an easy-to-slip-on, weather-resistant rubber moc style, this pair is handcrafted in Maine with the attention to detail we've insisted on for over 100 years. \\r\\n\\r\\nSize & Fit\\r\\n- With light- or midweight socks: Whole sizes, order 1 size down. Half sizes, order 1½ sizes down. \\r\\n- With heavyweight socks: Whole sizes, order your normal size. Half sizes, order the next size down. \\r\\n\\r\\nWhy We Love Them\\r\\nAn avid outdoorsman, Bartholomew Barnstormer wanted to create a comfortable, dry pair of boots for tromping through the backwoods of Maine. Today, our Signature Collection rubber mocs are still sewn right here in Maine, one pair at a time, from rugged, weather-resistant waxed canvas that gets even better with age.\\r\\n\\r\\nVideo: One Minute on  Boot Care\\r\\n\\r\\nConstruction\\r\\n- Crafted from rugged, weather-resistant waxed canvas. \\r\\n- Still made here in Maine from the highest quality materials. \\r\\n\", 'row': 39}, page_content='- Still made here in Maine from the highest quality materials.')],\n",
       " 'ground_truth': 'Brooklyn',\n",
       " 'context_recall': 0.0}"
      ]
     },
     "execution_count": 64,
     "metadata": {},
     "output_type": "execute_result"
    }
   ],
   "source": [
    "# Find the matching example for the question\n",
    "question = result_updated[\"question\"]\n",
    "ground_truth = None\n",
    "for ex in examples:\n",
    "\tif ex[\"query\"] == question:\n",
    "\t\tground_truth = ex[\"ground_truths\"]\n",
    "\t\tbreak\n",
    "\n",
    "# Prepare input with all required keys\n",
    "input_dict = result_updated.copy()\n",
    "# Extract string from list if needed\n",
    "if isinstance(ground_truth, list) and len(ground_truth) == 1:\n",
    "\tinput_dict[\"ground_truth\"] = ground_truth[0]\n",
    "else:\n",
    "\tinput_dict[\"ground_truth\"] = ground_truth\n",
    "\n",
    "eval_result = context_recall_chain(input_dict)\n",
    "eval_result.get(\"context_recall_score\", eval_result)"
   ]
  },
  {
   "cell_type": "markdown",
   "id": "118cba80-c2a3-408e-9d8d-857521cbe723",
   "metadata": {},
   "source": [
    "High context_recall_score means that the ground truth is present in the source documents.\n",
    "\n",
    "You can check lower context recall scores by changing the source_documents to something else."
   ]
  },
  {
   "cell_type": "code",
   "execution_count": 68,
   "id": "f6610c5f-5f8e-406c-885c-093012a5dc44",
   "metadata": {},
   "outputs": [
    {
     "data": {
      "text/plain": [
       "{'question': 'Which borough of New York City has the highest population?',\n",
       " 'contexts': [Document(metadata={}, page_content='I love christmas')],\n",
       " 'ground_truth': 'Brooklyn',\n",
       " 'context_recall': 0.5}"
      ]
     },
     "execution_count": 68,
     "metadata": {},
     "output_type": "execute_result"
    }
   ],
   "source": [
    "from langchain.schema import Document\n",
    "\n",
    "# Prepare the required input keys\n",
    "input_dict = {\n",
    "\t\"question\": result[\"query\"],\n",
    "\t\"contexts\": [Document(page_content=\"I love christmas\")],\n",
    "\t\"ground_truth\": \"Brooklyn\"  # Provide the correct answer for the question\n",
    "}\n",
    "\n",
    "eval_result = context_recall_chain(input_dict)\n",
    "eval_result.get(\"context_recall_score\", eval_result)"
   ]
  },
  {
   "cell_type": "markdown",
   "id": "3dc06403-c514-47fd-ac82-d95ece8d2f06",
   "metadata": {},
   "source": [
    "2. `evaluate()`\n",
    "\n",
    "Evaluate a list of inputs/queries and the outputs/predictions from the QA chain."
   ]
  },
  {
   "cell_type": "code",
   "execution_count": 70,
   "id": "f6b23708-b94d-4649-acd9-0e268f72f94a",
   "metadata": {},
   "outputs": [
    {
     "name": "stdout",
     "output_type": "stream",
     "text": [
      "evaluating...\n"
     ]
    },
    {
     "data": {
      "text/plain": [
       "[{'question': 'What is the population of New York City as of 2020?',\n",
       "  'answer': \"I don't know.\",\n",
       "  'contexts': [Document(metadata={'source': 'As part of our partnership with National Park Foundation, we\\'re excited to offer this Find Your Park collectible patch – inspiring adventurers of all ages to get out there and find their own special connection to our national parks. \\r\\n\\r\\nSpecs: Dimensions: 2\"H x 3½\"W. \\r\\n\\r\\nWhy We Love It: We\\'re dedicated to supporting organizations that help people get outside and we think we\\'ve found our perfect match. The National Park Foundation, the official charitable partner of the National Park Service, works to protect an amazing network of more than 400 national park sites, many of which you\\'ll find just a short trip away.\\r\\n\\r\\nFabric & Care: Machine wash and dry. \\r\\n\\r\\nAdditional Features: Simply iron on to a backpack or jacket; or sew on fabric surface for extra durability. Get your 2019 National Park annual pass with us. Learn more at bbarnstormer.com/nationalparks. Made in the USA. \\r\\n\\r\\nQuestions? Please visit bbarnstormer.com/nationalparks for more information.', 'row': 653}, page_content='Questions? Please visit bbarnstormer.com/nationalparks for more information.'),\n",
       "   Document(metadata={'source': 'This plaid sled cushion cover is a great update for your pull sled cushion—it’s cozy and durable in iconic buffalo plaid.\\r\\n\\r\\nSpecs\\r\\n\\r\\nSmall: Dimensions: 28\"L x 13\"W x 8 ½\"H.\\r\\n\\r\\nLarge: Dimensions: 35½\"L x 15\"W x 10\"H.\\r\\n\\r\\nConstruction\\r\\n\\r\\nDurable wool/polyester blend.\\r\\n\\r\\nSlip-on design with Velcro-closure holds cover securely to cushion.\\r\\n\\r\\nMade in Canada.\\r\\n\\r\\nQuestions? Please contact us for further assistance.', 'row': 360}, page_content=': 360\\nname: Sled Buffalo Plaid Cushion Cover\\ndescription: This plaid sled cushion cover is a great update for your pull sled cushion—it’s cozy and durable in iconic buffalo plaid.\\r\\n\\r\\nSpecs\\r\\n\\r\\nSmall: Dimensions: 28\"L x 13\"W x 8 ½\"H.\\r\\n\\r\\nLarge: Dimensions: 35½\"L x 15\"W x 10\"H.\\r\\n\\r\\nConstruction\\r\\n\\r\\nDurable wool/polyester blend.\\r\\n\\r\\nSlip-on design with Velcro-closure holds cover securely to cushion.\\r\\n\\r\\nMade in Canada.\\r\\n\\r\\nQuestions? Please contact us for further assistance.'),\n",
       "   Document(metadata={'source': 'Instantly update your home – and make a great first impression – with this round address plaque, proudly handcrafted in the USA. \\r\\n\\r\\nSpecs: Dimensions: 8¾\" x 8¾\". \\r\\n\\r\\nConstruction: Cast from recycled aluminum that will not rust. Protected by Alumi-Shield™ all weather coating. \\r\\n\\r\\nAdditional Features: Personalize up to three 4\" numbers. Includes two brass screws for hanging. Made in the USA.\\r\\n\\r\\nQuestions? Please contact us for more information.', 'row': 711}, page_content=': 711\\nname: Home Address Sign, Round\\ndescription: Instantly update your home – and make a great first impression – with this round address plaque, proudly handcrafted in the USA. \\r\\n\\r\\nSpecs: Dimensions: 8¾\" x 8¾\". \\r\\n\\r\\nConstruction: Cast from recycled aluminum that will not rust. Protected by Alumi-Shield™ all weather coating. \\r\\n\\r\\nAdditional Features: Personalize up to three 4\" numbers. Includes two brass screws for hanging. Made in the USA.\\r\\n\\r\\nQuestions? Please contact us for more information.'),\n",
       "   Document(metadata={'source': 'This durable camping hammock provides a lightweight, packable alternative to a tent. It can be hung quickly with the included hanging straps and carabiners. \\r\\n\\r\\nSpecs\\r\\nCapacity: 400 lb.; two people. \\r\\nWeight: 2 lb. with straps and carabiners. \\r\\nStuffed Size: 10\" x 4.25\". \\r\\n\\r\\nConstruction\\r\\nMade with super-light 70D nylon taffeta. \\r\\nHanging webbing is made from nylon. \\r\\n\\r\\nAdditional Features\\r\\nHolds up to two people. \\r\\nTree-friendly straps are over 9\\' long with daisy chains every 4.5\" for quick and easy adjustment. \\r\\nPair with rain fly and bug net for a waterproof and bugproof shelter. Fly and net sold separately. \\r\\nImported. \\r\\n\\r\\nQuestions?\\r\\nReach out to our customer service team for any inquiries.', 'row': 256}, page_content=': 256\\nname: Backwoods Double Hammock\\ndescription: This durable camping hammock provides a lightweight, packable alternative to a tent. It can be hung quickly with the included hanging straps and carabiners. \\r\\n\\r\\nSpecs\\r\\nCapacity: 400 lb.; two people. \\r\\nWeight: 2 lb. with straps and carabiners. \\r\\nStuffed Size: 10\" x 4.25\". \\r\\n\\r\\nConstruction\\r\\nMade with super-light 70D nylon taffeta. \\r\\nHanging webbing is made from nylon. \\r\\n\\r\\nAdditional Features\\r\\nHolds up to two people. \\r\\nTree-friendly straps are over 9\\' long with daisy chains every 4.5\" for quick and easy adjustment. \\r\\nPair with rain fly and bug net for a waterproof and bugproof shelter. Fly and net sold separately. \\r\\nImported. \\r\\n\\r\\nQuestions?\\r\\nReach out to our customer service team for any inquiries.')],\n",
       "  'faithfulness': 0.0},\n",
       " {'question': 'Which borough of New York City has the highest population?',\n",
       "  'answer': \"I don't know.\",\n",
       "  'contexts': [Document(metadata={'source': 'As part of our partnership with National Park Foundation, we\\'re excited to offer this Find Your Park collectible patch – inspiring adventurers of all ages to get out there and find their own special connection to our national parks. \\r\\n\\r\\nSpecs: Dimensions: 2\"H x 3½\"W. \\r\\n\\r\\nWhy We Love It: We\\'re dedicated to supporting organizations that help people get outside and we think we\\'ve found our perfect match. The National Park Foundation, the official charitable partner of the National Park Service, works to protect an amazing network of more than 400 national park sites, many of which you\\'ll find just a short trip away.\\r\\n\\r\\nFabric & Care: Machine wash and dry. \\r\\n\\r\\nAdditional Features: Simply iron on to a backpack or jacket; or sew on fabric surface for extra durability. Get your 2019 National Park annual pass with us. Learn more at bbarnstormer.com/nationalparks. Made in the USA. \\r\\n\\r\\nQuestions? Please visit bbarnstormer.com/nationalparks for more information.', 'row': 653}, page_content='Questions? Please visit bbarnstormer.com/nationalparks for more information.'),\n",
       "   Document(metadata={'source': 'Our extra large duffle bag is designed to be extra rugged, standing up to whatever adventures come your way. With specs that include a capacity of 8,460 cubic inches (139L), a weight of 3 lb 5 oz, and dimensions of 17\"H x 34\"W x 15\"D, this bag is designed to last. Our solid colors are made of 420-denier nylon with a water-resistant polyurethane coating, and our prints are made of 600-denier polyester with the same water-resistant coating. The base is reinforced with nylon, and the long zipper allows for easy access. The bag also includes cinch straps, a handle wrap, and a padded Comfort-Carry strap for extra comfort. To make sure this bag can stand up to any situation, we tested it for water resistance at 120 PSI for 60 seconds, and the abrasion-resistant fabric surpassed the fabrics tested in our lab by 40%. The backing was also tested for 24 hours in our deep freeze with no signs of cracking, flaking, or peeling. With over 5.5 million sold and thousands of 5-star reviews, our extra large duffle bag is the one customers trust to go the distance. ', 'row': 979}, page_content='reviews, our extra large duffle bag is the one customers trust to go the distance.'),\n",
       "   Document(metadata={'source': 'This strong and durable fluorocarbon tippet material is the perfect choice for nymphs and streamers. Specs: Length: 30 yd. Construction: Made of supple, strong 100% fluorocarbon. Nearly invisible in the water and abrasion resistant, this material is a little stiffer and denser than traditional leader material. Additional features: Ties excellent knots, even to nylon tippet and leaders. USA. If you have any questions, please contact us.', 'row': 72}, page_content=': 72\\nname: Fluoroflex Max Tippet\\ndescription: This strong and durable fluorocarbon tippet material is the perfect choice for nymphs and streamers. Specs: Length: 30 yd. Construction: Made of supple, strong 100% fluorocarbon. Nearly invisible in the water and abrasion resistant, this material is a little stiffer and denser than traditional leader material. Additional features: Ties excellent knots, even to nylon tippet and leaders. USA. If you have any questions, please contact us.'),\n",
       "   Document(metadata={'source': \"Whoever said “they don’t build things like they used to” doesn’t own the  Boot. In an easy-to-slip-on, weather-resistant rubber moc style, this pair is handcrafted in Maine with the attention to detail we've insisted on for over 100 years. \\r\\n\\r\\nSize & Fit\\r\\n- With light- or midweight socks: Whole sizes, order 1 size down. Half sizes, order 1½ sizes down. \\r\\n- With heavyweight socks: Whole sizes, order your normal size. Half sizes, order the next size down. \\r\\n\\r\\nWhy We Love Them\\r\\nAn avid outdoorsman, Bartholomew Barnstormer wanted to create a comfortable, dry pair of boots for tromping through the backwoods of Maine. Today, our Signature Collection rubber mocs are still sewn right here in Maine, one pair at a time, from rugged, weather-resistant waxed canvas that gets even better with age.\\r\\n\\r\\nVideo: One Minute on  Boot Care\\r\\n\\r\\nConstruction\\r\\n- Crafted from rugged, weather-resistant waxed canvas. \\r\\n- Still made here in Maine from the highest quality materials. \\r\\n\", 'row': 39}, page_content='- Still made here in Maine from the highest quality materials.')],\n",
       "  'faithfulness': 0.0},\n",
       " {'question': 'What is the economic significance of New York City?',\n",
       "  'answer': \"I don't know.\",\n",
       "  'contexts': [Document(metadata={'source': 'As part of our partnership with National Park Foundation, we\\'re excited to offer this Find Your Park collectible patch – inspiring adventurers of all ages to get out there and find their own special connection to our national parks. \\r\\n\\r\\nSpecs: Dimensions: 2\"H x 3½\"W. \\r\\n\\r\\nWhy We Love It: We\\'re dedicated to supporting organizations that help people get outside and we think we\\'ve found our perfect match. The National Park Foundation, the official charitable partner of the National Park Service, works to protect an amazing network of more than 400 national park sites, many of which you\\'ll find just a short trip away.\\r\\n\\r\\nFabric & Care: Machine wash and dry. \\r\\n\\r\\nAdditional Features: Simply iron on to a backpack or jacket; or sew on fabric surface for extra durability. Get your 2019 National Park annual pass with us. Learn more at bbarnstormer.com/nationalparks. Made in the USA. \\r\\n\\r\\nQuestions? Please visit bbarnstormer.com/nationalparks for more information.', 'row': 653}, page_content='Questions? Please visit bbarnstormer.com/nationalparks for more information.'),\n",
       "   Document(metadata={'source': 'Enjoy backyard archery with our best-value family bow set that has everything you need to start hitting targets. Specs include: \\r\\n\\r\\n54\" Draw Weight: 20 lb. Draw Length: 24\". Draw: Right hand.\\r\\n\\r\\nDraw Weight: 20 lb. Draw Length: 24\". Draw: Left hand.\\r\\n\\r\\n62\" Draw Weight: 29 lb. Draw Length: 28\". Draw: Right hand.\\r\\n\\r\\nDraw Weight: 29 lb. Draw Length: 28\". Draw: Left hand.\\r\\n\\r\\nDraw Weight: 36 lb. Draw Length: 28\". Draw: Left hand.\\r\\n\\r\\nDraw Weight: 36 lb. Draw Length: 28\". Draw: Right hand.\\r\\n\\r\\nWhy We Love It: This well-made set has everything you need to introduce your family to archery and enjoy it for years. It’s easy to choose the right bow: Determine which hand you will use to pull the bowstring. If with your right hand, you will need a right-handed bow. In general, children will be more comfortable with a 20 lb. draw weight, and most adults should go with a 29 to 36 lb. draw weight. Stronger adults should select the 36 lb. draw weight.\\r\\n\\r\\nConstruction:', 'row': 141}, page_content='Construction:'),\n",
       "   Document(metadata={'source': 'This plaid sled cushion cover is a great update for your pull sled cushion—it’s cozy and durable in iconic buffalo plaid.\\r\\n\\r\\nSpecs\\r\\n\\r\\nSmall: Dimensions: 28\"L x 13\"W x 8 ½\"H.\\r\\n\\r\\nLarge: Dimensions: 35½\"L x 15\"W x 10\"H.\\r\\n\\r\\nConstruction\\r\\n\\r\\nDurable wool/polyester blend.\\r\\n\\r\\nSlip-on design with Velcro-closure holds cover securely to cushion.\\r\\n\\r\\nMade in Canada.\\r\\n\\r\\nQuestions? Please contact us for further assistance.', 'row': 360}, page_content=': 360\\nname: Sled Buffalo Plaid Cushion Cover\\ndescription: This plaid sled cushion cover is a great update for your pull sled cushion—it’s cozy and durable in iconic buffalo plaid.\\r\\n\\r\\nSpecs\\r\\n\\r\\nSmall: Dimensions: 28\"L x 13\"W x 8 ½\"H.\\r\\n\\r\\nLarge: Dimensions: 35½\"L x 15\"W x 10\"H.\\r\\n\\r\\nConstruction\\r\\n\\r\\nDurable wool/polyester blend.\\r\\n\\r\\nSlip-on design with Velcro-closure holds cover securely to cushion.\\r\\n\\r\\nMade in Canada.\\r\\n\\r\\nQuestions? Please contact us for further assistance.'),\n",
       "   Document(metadata={'source': 'Our All-Weather Adirondack Lounger with built-in footstool is perfect for a quick breather or an entire afternoon of relaxation. Check out the specs: overall dimensions are 35¾\"H x 29\"W x 35¾\"D, the leg rest extends 22½\" from the seat, and the seat area measures 20\" x 17\" with a seat height of 13 1/8\"H. The lounger weighs about 48 lbs.\\r\\n\\r\\nWe love this product for its ecofriendly HDPE (High Density Polyethylene) construction, made partially from recycled materials. This lounger is heavy enough to withstand winds and won\\'t be affected by wet weather or extreme temperatures. It won\\'t rot, warp, crack, splinter, absorb moisture or ever need painting, even if you keep it outside all year-round.\\r\\n\\r\\nAdditional features include being easier to clean with soap and water and its fade-resistant colors. Create a timeless, functional outdoor entertainment area with our All-Weather products. Plus, you can pair this lounger with our Casco Bay Cushions, sold separately. It\\'s made in the USA.\\r\\n\\r\\nAssembly is required, please see the instructions below. If', 'row': 676}, page_content=\"Additional features include being easier to clean with soap and water and its fade-resistant colors. Create a timeless, functional outdoor entertainment area with our All-Weather products. Plus, you can pair this lounger with our Casco Bay Cushions, sold separately. It's made in the USA.\\r\\n\\r\\nAssembly is required, please see the instructions below. If\")],\n",
       "  'faithfulness': 0.0},\n",
       " {'question': 'How did New York City get its name?',\n",
       "  'answer': \"I don't know, for historical information like that, I recommend checking reliable historical sources or visiting a library for accurate information on the origin of New York City's name.\",\n",
       "  'contexts': [Document(metadata={'source': 'As part of our partnership with National Park Foundation, we\\'re excited to offer this Find Your Park collectible patch – inspiring adventurers of all ages to get out there and find their own special connection to our national parks. \\r\\n\\r\\nSpecs: Dimensions: 2\"H x 3½\"W. \\r\\n\\r\\nWhy We Love It: We\\'re dedicated to supporting organizations that help people get outside and we think we\\'ve found our perfect match. The National Park Foundation, the official charitable partner of the National Park Service, works to protect an amazing network of more than 400 national park sites, many of which you\\'ll find just a short trip away.\\r\\n\\r\\nFabric & Care: Machine wash and dry. \\r\\n\\r\\nAdditional Features: Simply iron on to a backpack or jacket; or sew on fabric surface for extra durability. Get your 2019 National Park annual pass with us. Learn more at bbarnstormer.com/nationalparks. Made in the USA. \\r\\n\\r\\nQuestions? Please visit bbarnstormer.com/nationalparks for more information.', 'row': 653}, page_content='Questions? Please visit bbarnstormer.com/nationalparks for more information.'),\n",
       "   Document(metadata={'source': 'Instantly update your home – and make a great first impression – with this round address plaque, proudly handcrafted in the USA. \\r\\n\\r\\nSpecs: Dimensions: 8¾\" x 8¾\". \\r\\n\\r\\nConstruction: Cast from recycled aluminum that will not rust. Protected by Alumi-Shield™ all weather coating. \\r\\n\\r\\nAdditional Features: Personalize up to three 4\" numbers. Includes two brass screws for hanging. Made in the USA.\\r\\n\\r\\nQuestions? Please contact us for more information.', 'row': 711}, page_content=': 711\\nname: Home Address Sign, Round\\ndescription: Instantly update your home – and make a great first impression – with this round address plaque, proudly handcrafted in the USA. \\r\\n\\r\\nSpecs: Dimensions: 8¾\" x 8¾\". \\r\\n\\r\\nConstruction: Cast from recycled aluminum that will not rust. Protected by Alumi-Shield™ all weather coating. \\r\\n\\r\\nAdditional Features: Personalize up to three 4\" numbers. Includes two brass screws for hanging. Made in the USA.\\r\\n\\r\\nQuestions? Please contact us for more information.'),\n",
       "   Document(metadata={'source': 'This plaid sled cushion cover is a great update for your pull sled cushion—it’s cozy and durable in iconic buffalo plaid.\\r\\n\\r\\nSpecs\\r\\n\\r\\nSmall: Dimensions: 28\"L x 13\"W x 8 ½\"H.\\r\\n\\r\\nLarge: Dimensions: 35½\"L x 15\"W x 10\"H.\\r\\n\\r\\nConstruction\\r\\n\\r\\nDurable wool/polyester blend.\\r\\n\\r\\nSlip-on design with Velcro-closure holds cover securely to cushion.\\r\\n\\r\\nMade in Canada.\\r\\n\\r\\nQuestions? Please contact us for further assistance.', 'row': 360}, page_content=': 360\\nname: Sled Buffalo Plaid Cushion Cover\\ndescription: This plaid sled cushion cover is a great update for your pull sled cushion—it’s cozy and durable in iconic buffalo plaid.\\r\\n\\r\\nSpecs\\r\\n\\r\\nSmall: Dimensions: 28\"L x 13\"W x 8 ½\"H.\\r\\n\\r\\nLarge: Dimensions: 35½\"L x 15\"W x 10\"H.\\r\\n\\r\\nConstruction\\r\\n\\r\\nDurable wool/polyester blend.\\r\\n\\r\\nSlip-on design with Velcro-closure holds cover securely to cushion.\\r\\n\\r\\nMade in Canada.\\r\\n\\r\\nQuestions? Please contact us for further assistance.'),\n",
       "   Document(metadata={'source': \"Wool is a time-tested favorite of cold-weather hunters. It's warm even when wet, quiet in the woods and exceptionally durable for its weight. Our Maine Guide Wool Parka combines Bart's exclusive premium-quality, tightly woven wool with the lightweight comfort and warmth of advanced PrimaLoft® Infinity insulation. You get all the advantages of heavyweight wool without added bulk, allowing you to quickly and comfortably move through the woods and mount your rifle. The parka features fabric patches for forearm protection, strap closure for snug collar, full cut for layering with a comfortable nonbinding fit, back zip cargo pocket with reinforcements for drag rope or survival kit, interior zip security pocket, two front cargo pockets, two handwarmer pockets, draft-stopping elasticized drawcord waist and license loop. The tightly woven premium-quality wool provides superior durability, and the advanced PrimaLoft Infinity insulation adds extra warmth. Imported.\", 'row': 780}, page_content=': 780\\nname: Maine Guide PrimaLoft Parka')],\n",
       "  'faithfulness': 0.0},\n",
       " {'question': 'What is the significance of the Statue of Liberty in New York City?',\n",
       "  'answer': 'The Statue of Liberty in New York City is a symbol of freedom and democracy. It was a gift from France to the United States and has come to represent hope and opportunity for immigrants coming to America. The statue is located on Liberty Island in New York Harbor and is a famous landmark known around the world.',\n",
       "  'contexts': [Document(metadata={'source': 'Instantly update your home – and make a great first impression – with this round address plaque, proudly handcrafted in the USA. \\r\\n\\r\\nSpecs: Dimensions: 8¾\" x 8¾\". \\r\\n\\r\\nConstruction: Cast from recycled aluminum that will not rust. Protected by Alumi-Shield™ all weather coating. \\r\\n\\r\\nAdditional Features: Personalize up to three 4\" numbers. Includes two brass screws for hanging. Made in the USA.\\r\\n\\r\\nQuestions? Please contact us for more information.', 'row': 711}, page_content=': 711\\nname: Home Address Sign, Round\\ndescription: Instantly update your home – and make a great first impression – with this round address plaque, proudly handcrafted in the USA. \\r\\n\\r\\nSpecs: Dimensions: 8¾\" x 8¾\". \\r\\n\\r\\nConstruction: Cast from recycled aluminum that will not rust. Protected by Alumi-Shield™ all weather coating. \\r\\n\\r\\nAdditional Features: Personalize up to three 4\" numbers. Includes two brass screws for hanging. Made in the USA.\\r\\n\\r\\nQuestions? Please contact us for more information.'),\n",
       "   Document(metadata={'source': 'This 32 ounce water bottle is leakproof, BPA-free and superversatile, making it ideal for hiking, trekking and daily hydration.\\r\\n\\r\\nSpecs:\\r\\nDimensions: 9.25\"H x 3.5\" diam.\\r\\nWeight: 5.9 oz.\\r\\nCapacity: 32 oz.\\r\\n\\r\\nConstruction:\\r\\nMade from BPA-free Tritan copolyester.\\r\\n\\r\\nAdditional Features:\\r\\nOdor resistant.\\r\\nLeakproof cap prevents drips.\\r\\nDishwasher safe (top rack only).\\r\\nMade in the USA.\\r\\n\\r\\nQuestions? Feel free to contact us directly.', 'row': 249}, page_content=': 249\\nname: HydroMaxx Wide Mouth Water Bottle, 32 oz.\\ndescription: This 32 ounce water bottle is leakproof, BPA-free and superversatile, making it ideal for hiking, trekking and daily hydration.\\r\\n\\r\\nSpecs:\\r\\nDimensions: 9.25\"H x 3.5\" diam.\\r\\nWeight: 5.9 oz.\\r\\nCapacity: 32 oz.\\r\\n\\r\\nConstruction:\\r\\nMade from BPA-free Tritan copolyester.\\r\\n\\r\\nAdditional Features:\\r\\nOdor resistant.\\r\\nLeakproof cap prevents drips.\\r\\nDishwasher safe (top rack only).\\r\\nMade in the USA.\\r\\n\\r\\nQuestions? Feel free to contact us directly.'),\n",
       "   Document(metadata={'source': 'As part of our partnership with the National Park Foundation, we are proud to offer the Arches National Park collectible patch, featuring Utah\\'s iconic arch embroidered on a purple background. Specs: Dimensions: 2½\"H x 3½\"W. Why We Love It: We\\'re dedicated to supporting organizations that help people get outside and we think we\\'ve found our perfect match. The National Park Foundation, the official charitable partner of the National Park Service, works to protect an amazing network of more than 400 national park sites, many of which you\\'ll find just a short trip away. Fabric & Care: Machine wash and dry. Additional Features: Iron on to a pack or jacket; can also be sewn on for extra durability. Get your 2019 National Park annual pass with us. Learn more at bbarnstormer.com/nationalparks. Made in the USA. Questions? Contact us for more information.', 'row': 342}, page_content=': 342\\nname: Grand Arches National Park Emblem\\ndescription: As part of our partnership with the National Park Foundation, we are proud to offer the Arches National Park collectible patch, featuring Utah\\'s iconic arch embroidered on a purple background. Specs: Dimensions: 2½\"H x 3½\"W. Why We Love It: We\\'re dedicated to supporting organizations that help people get outside and we think we\\'ve found our perfect match. The National Park Foundation, the official charitable partner of the National Park Service, works to protect an amazing network of more than 400 national park sites, many of which you\\'ll find just a short trip away. Fabric & Care: Machine wash and dry. Additional Features: Iron on to a pack or jacket; can also be sewn on for extra durability. Get your 2019 National Park annual pass with us. Learn more at bbarnstormer.com/nationalparks. Made in the USA. Questions? Contact us for more information.'),\n",
       "   Document(metadata={'source': 'The Pyramid Instant Shelter is a rugged and reliable choice for outdoor events. It provides years of shade and cover from rain. The shelter is easy to set up and takedown and includes a roller bag with high-density wheels and Sure-Grip handles for convenient transport.\\r\\n\\r\\nSpecs:\\r\\n\\r\\nDimensions: 10\\' x 10\\'\\r\\n\\r\\nPeak Height: 10\\'5\"\\r\\n\\r\\nWeight: 48 lb.\\r\\n\\r\\nValance Height: 6\\'11\"\\r\\n\\r\\nConstruction:\\r\\n\\r\\nHigh-strength, powder-coated steel frame.\\r\\n\\r\\nAdditional Features:\\r\\n\\r\\nMeets CPAI-84 and NFPA-701 Fire Resistant Requirements.\\r\\n\\r\\nToggle leg adjustment system makes set up and takedown fast and easy.\\r\\n\\r\\nIncludes spike kit to secure shelter to the ground.\\r\\n\\r\\nImported.\\r\\n\\r\\nIf you have any questions, please contact us.', 'row': 657}, page_content=': 657\\nname: Insta Shade Pyramid Canopy\\ndescription: The Pyramid Instant Shelter is a rugged and reliable choice for outdoor events. It provides years of shade and cover from rain. The shelter is easy to set up and takedown and includes a roller bag with high-density wheels and Sure-Grip handles for convenient transport.\\r\\n\\r\\nSpecs:\\r\\n\\r\\nDimensions: 10\\' x 10\\'\\r\\n\\r\\nPeak Height: 10\\'5\"\\r\\n\\r\\nWeight: 48 lb.\\r\\n\\r\\nValance Height: 6\\'11\"\\r\\n\\r\\nConstruction:\\r\\n\\r\\nHigh-strength, powder-coated steel frame.\\r\\n\\r\\nAdditional Features:\\r\\n\\r\\nMeets CPAI-84 and NFPA-701 Fire Resistant Requirements.\\r\\n\\r\\nToggle leg adjustment system makes set up and takedown fast and easy.\\r\\n\\r\\nIncludes spike kit to secure shelter to the ground.\\r\\n\\r\\nImported.\\r\\n\\r\\nIf you have any questions, please contact us.')],\n",
       "  'faithfulness': 0.0}]"
      ]
     },
     "execution_count": 70,
     "metadata": {},
     "output_type": "execute_result"
    }
   ],
   "source": [
    "# run the queries as a batch for efficiency\n",
    "predictions = qa_chain.batch(examples)\n",
    "\n",
    "# evaluate\n",
    "print(\"evaluating...\")\n",
    "results = []\n",
    "for ex, pred in zip(examples, predictions):\n",
    "\t# Prepare input for the evaluator chain\n",
    "\teval_input = {\n",
    "\t\t\"question\": ex[\"query\"],\n",
    "\t\t\"answer\": pred[\"result\"],\n",
    "\t\t\"contexts\": pred.get(\"source_documents\", []),\n",
    "\t}\n",
    "\tresults.append(faithfulness_chain(eval_input))\n",
    "results"
   ]
  },
  {
   "cell_type": "code",
   "execution_count": 72,
   "id": "d661f6b9-04c7-40b7-874b-25f53cfab9d9",
   "metadata": {},
   "outputs": [
    {
     "name": "stdout",
     "output_type": "stream",
     "text": [
      "evaluating...\n"
     ]
    },
    {
     "data": {
      "text/plain": [
       "[{'question': 'What is the population of New York City as of 2020?',\n",
       "  'answer': \"I don't know.\",\n",
       "  'contexts': [Document(metadata={'source': 'As part of our partnership with National Park Foundation, we\\'re excited to offer this Find Your Park collectible patch – inspiring adventurers of all ages to get out there and find their own special connection to our national parks. \\r\\n\\r\\nSpecs: Dimensions: 2\"H x 3½\"W. \\r\\n\\r\\nWhy We Love It: We\\'re dedicated to supporting organizations that help people get outside and we think we\\'ve found our perfect match. The National Park Foundation, the official charitable partner of the National Park Service, works to protect an amazing network of more than 400 national park sites, many of which you\\'ll find just a short trip away.\\r\\n\\r\\nFabric & Care: Machine wash and dry. \\r\\n\\r\\nAdditional Features: Simply iron on to a backpack or jacket; or sew on fabric surface for extra durability. Get your 2019 National Park annual pass with us. Learn more at bbarnstormer.com/nationalparks. Made in the USA. \\r\\n\\r\\nQuestions? Please visit bbarnstormer.com/nationalparks for more information.', 'row': 653}, page_content='Questions? Please visit bbarnstormer.com/nationalparks for more information.'),\n",
       "   Document(metadata={'source': 'This plaid sled cushion cover is a great update for your pull sled cushion—it’s cozy and durable in iconic buffalo plaid.\\r\\n\\r\\nSpecs\\r\\n\\r\\nSmall: Dimensions: 28\"L x 13\"W x 8 ½\"H.\\r\\n\\r\\nLarge: Dimensions: 35½\"L x 15\"W x 10\"H.\\r\\n\\r\\nConstruction\\r\\n\\r\\nDurable wool/polyester blend.\\r\\n\\r\\nSlip-on design with Velcro-closure holds cover securely to cushion.\\r\\n\\r\\nMade in Canada.\\r\\n\\r\\nQuestions? Please contact us for further assistance.', 'row': 360}, page_content=': 360\\nname: Sled Buffalo Plaid Cushion Cover\\ndescription: This plaid sled cushion cover is a great update for your pull sled cushion—it’s cozy and durable in iconic buffalo plaid.\\r\\n\\r\\nSpecs\\r\\n\\r\\nSmall: Dimensions: 28\"L x 13\"W x 8 ½\"H.\\r\\n\\r\\nLarge: Dimensions: 35½\"L x 15\"W x 10\"H.\\r\\n\\r\\nConstruction\\r\\n\\r\\nDurable wool/polyester blend.\\r\\n\\r\\nSlip-on design with Velcro-closure holds cover securely to cushion.\\r\\n\\r\\nMade in Canada.\\r\\n\\r\\nQuestions? Please contact us for further assistance.'),\n",
       "   Document(metadata={'source': 'Instantly update your home – and make a great first impression – with this round address plaque, proudly handcrafted in the USA. \\r\\n\\r\\nSpecs: Dimensions: 8¾\" x 8¾\". \\r\\n\\r\\nConstruction: Cast from recycled aluminum that will not rust. Protected by Alumi-Shield™ all weather coating. \\r\\n\\r\\nAdditional Features: Personalize up to three 4\" numbers. Includes two brass screws for hanging. Made in the USA.\\r\\n\\r\\nQuestions? Please contact us for more information.', 'row': 711}, page_content=': 711\\nname: Home Address Sign, Round\\ndescription: Instantly update your home – and make a great first impression – with this round address plaque, proudly handcrafted in the USA. \\r\\n\\r\\nSpecs: Dimensions: 8¾\" x 8¾\". \\r\\n\\r\\nConstruction: Cast from recycled aluminum that will not rust. Protected by Alumi-Shield™ all weather coating. \\r\\n\\r\\nAdditional Features: Personalize up to three 4\" numbers. Includes two brass screws for hanging. Made in the USA.\\r\\n\\r\\nQuestions? Please contact us for more information.'),\n",
       "   Document(metadata={'source': 'This durable camping hammock provides a lightweight, packable alternative to a tent. It can be hung quickly with the included hanging straps and carabiners. \\r\\n\\r\\nSpecs\\r\\nCapacity: 400 lb.; two people. \\r\\nWeight: 2 lb. with straps and carabiners. \\r\\nStuffed Size: 10\" x 4.25\". \\r\\n\\r\\nConstruction\\r\\nMade with super-light 70D nylon taffeta. \\r\\nHanging webbing is made from nylon. \\r\\n\\r\\nAdditional Features\\r\\nHolds up to two people. \\r\\nTree-friendly straps are over 9\\' long with daisy chains every 4.5\" for quick and easy adjustment. \\r\\nPair with rain fly and bug net for a waterproof and bugproof shelter. Fly and net sold separately. \\r\\nImported. \\r\\n\\r\\nQuestions?\\r\\nReach out to our customer service team for any inquiries.', 'row': 256}, page_content=': 256\\nname: Backwoods Double Hammock\\ndescription: This durable camping hammock provides a lightweight, packable alternative to a tent. It can be hung quickly with the included hanging straps and carabiners. \\r\\n\\r\\nSpecs\\r\\nCapacity: 400 lb.; two people. \\r\\nWeight: 2 lb. with straps and carabiners. \\r\\nStuffed Size: 10\" x 4.25\". \\r\\n\\r\\nConstruction\\r\\nMade with super-light 70D nylon taffeta. \\r\\nHanging webbing is made from nylon. \\r\\n\\r\\nAdditional Features\\r\\nHolds up to two people. \\r\\nTree-friendly straps are over 9\\' long with daisy chains every 4.5\" for quick and easy adjustment. \\r\\nPair with rain fly and bug net for a waterproof and bugproof shelter. Fly and net sold separately. \\r\\nImported. \\r\\n\\r\\nQuestions?\\r\\nReach out to our customer service team for any inquiries.')],\n",
       "  'ground_truth': '8,804,190',\n",
       "  'context_recall': 1.0},\n",
       " {'question': 'Which borough of New York City has the highest population?',\n",
       "  'answer': \"I don't know.\",\n",
       "  'contexts': [Document(metadata={'source': 'As part of our partnership with National Park Foundation, we\\'re excited to offer this Find Your Park collectible patch – inspiring adventurers of all ages to get out there and find their own special connection to our national parks. \\r\\n\\r\\nSpecs: Dimensions: 2\"H x 3½\"W. \\r\\n\\r\\nWhy We Love It: We\\'re dedicated to supporting organizations that help people get outside and we think we\\'ve found our perfect match. The National Park Foundation, the official charitable partner of the National Park Service, works to protect an amazing network of more than 400 national park sites, many of which you\\'ll find just a short trip away.\\r\\n\\r\\nFabric & Care: Machine wash and dry. \\r\\n\\r\\nAdditional Features: Simply iron on to a backpack or jacket; or sew on fabric surface for extra durability. Get your 2019 National Park annual pass with us. Learn more at bbarnstormer.com/nationalparks. Made in the USA. \\r\\n\\r\\nQuestions? Please visit bbarnstormer.com/nationalparks for more information.', 'row': 653}, page_content='Questions? Please visit bbarnstormer.com/nationalparks for more information.'),\n",
       "   Document(metadata={'source': 'Our extra large duffle bag is designed to be extra rugged, standing up to whatever adventures come your way. With specs that include a capacity of 8,460 cubic inches (139L), a weight of 3 lb 5 oz, and dimensions of 17\"H x 34\"W x 15\"D, this bag is designed to last. Our solid colors are made of 420-denier nylon with a water-resistant polyurethane coating, and our prints are made of 600-denier polyester with the same water-resistant coating. The base is reinforced with nylon, and the long zipper allows for easy access. The bag also includes cinch straps, a handle wrap, and a padded Comfort-Carry strap for extra comfort. To make sure this bag can stand up to any situation, we tested it for water resistance at 120 PSI for 60 seconds, and the abrasion-resistant fabric surpassed the fabrics tested in our lab by 40%. The backing was also tested for 24 hours in our deep freeze with no signs of cracking, flaking, or peeling. With over 5.5 million sold and thousands of 5-star reviews, our extra large duffle bag is the one customers trust to go the distance. ', 'row': 979}, page_content='reviews, our extra large duffle bag is the one customers trust to go the distance.'),\n",
       "   Document(metadata={'source': 'This strong and durable fluorocarbon tippet material is the perfect choice for nymphs and streamers. Specs: Length: 30 yd. Construction: Made of supple, strong 100% fluorocarbon. Nearly invisible in the water and abrasion resistant, this material is a little stiffer and denser than traditional leader material. Additional features: Ties excellent knots, even to nylon tippet and leaders. USA. If you have any questions, please contact us.', 'row': 72}, page_content=': 72\\nname: Fluoroflex Max Tippet\\ndescription: This strong and durable fluorocarbon tippet material is the perfect choice for nymphs and streamers. Specs: Length: 30 yd. Construction: Made of supple, strong 100% fluorocarbon. Nearly invisible in the water and abrasion resistant, this material is a little stiffer and denser than traditional leader material. Additional features: Ties excellent knots, even to nylon tippet and leaders. USA. If you have any questions, please contact us.'),\n",
       "   Document(metadata={'source': \"Whoever said “they don’t build things like they used to” doesn’t own the  Boot. In an easy-to-slip-on, weather-resistant rubber moc style, this pair is handcrafted in Maine with the attention to detail we've insisted on for over 100 years. \\r\\n\\r\\nSize & Fit\\r\\n- With light- or midweight socks: Whole sizes, order 1 size down. Half sizes, order 1½ sizes down. \\r\\n- With heavyweight socks: Whole sizes, order your normal size. Half sizes, order the next size down. \\r\\n\\r\\nWhy We Love Them\\r\\nAn avid outdoorsman, Bartholomew Barnstormer wanted to create a comfortable, dry pair of boots for tromping through the backwoods of Maine. Today, our Signature Collection rubber mocs are still sewn right here in Maine, one pair at a time, from rugged, weather-resistant waxed canvas that gets even better with age.\\r\\n\\r\\nVideo: One Minute on  Boot Care\\r\\n\\r\\nConstruction\\r\\n- Crafted from rugged, weather-resistant waxed canvas. \\r\\n- Still made here in Maine from the highest quality materials. \\r\\n\", 'row': 39}, page_content='- Still made here in Maine from the highest quality materials.')],\n",
       "  'ground_truth': 'Brooklyn',\n",
       "  'context_recall': 0.0},\n",
       " {'question': 'What is the economic significance of New York City?',\n",
       "  'answer': \"I don't know.\",\n",
       "  'contexts': [Document(metadata={'source': 'As part of our partnership with National Park Foundation, we\\'re excited to offer this Find Your Park collectible patch – inspiring adventurers of all ages to get out there and find their own special connection to our national parks. \\r\\n\\r\\nSpecs: Dimensions: 2\"H x 3½\"W. \\r\\n\\r\\nWhy We Love It: We\\'re dedicated to supporting organizations that help people get outside and we think we\\'ve found our perfect match. The National Park Foundation, the official charitable partner of the National Park Service, works to protect an amazing network of more than 400 national park sites, many of which you\\'ll find just a short trip away.\\r\\n\\r\\nFabric & Care: Machine wash and dry. \\r\\n\\r\\nAdditional Features: Simply iron on to a backpack or jacket; or sew on fabric surface for extra durability. Get your 2019 National Park annual pass with us. Learn more at bbarnstormer.com/nationalparks. Made in the USA. \\r\\n\\r\\nQuestions? Please visit bbarnstormer.com/nationalparks for more information.', 'row': 653}, page_content='Questions? Please visit bbarnstormer.com/nationalparks for more information.'),\n",
       "   Document(metadata={'source': 'Enjoy backyard archery with our best-value family bow set that has everything you need to start hitting targets. Specs include: \\r\\n\\r\\n54\" Draw Weight: 20 lb. Draw Length: 24\". Draw: Right hand.\\r\\n\\r\\nDraw Weight: 20 lb. Draw Length: 24\". Draw: Left hand.\\r\\n\\r\\n62\" Draw Weight: 29 lb. Draw Length: 28\". Draw: Right hand.\\r\\n\\r\\nDraw Weight: 29 lb. Draw Length: 28\". Draw: Left hand.\\r\\n\\r\\nDraw Weight: 36 lb. Draw Length: 28\". Draw: Left hand.\\r\\n\\r\\nDraw Weight: 36 lb. Draw Length: 28\". Draw: Right hand.\\r\\n\\r\\nWhy We Love It: This well-made set has everything you need to introduce your family to archery and enjoy it for years. It’s easy to choose the right bow: Determine which hand you will use to pull the bowstring. If with your right hand, you will need a right-handed bow. In general, children will be more comfortable with a 20 lb. draw weight, and most adults should go with a 29 to 36 lb. draw weight. Stronger adults should select the 36 lb. draw weight.\\r\\n\\r\\nConstruction:', 'row': 141}, page_content='Construction:'),\n",
       "   Document(metadata={'source': 'This plaid sled cushion cover is a great update for your pull sled cushion—it’s cozy and durable in iconic buffalo plaid.\\r\\n\\r\\nSpecs\\r\\n\\r\\nSmall: Dimensions: 28\"L x 13\"W x 8 ½\"H.\\r\\n\\r\\nLarge: Dimensions: 35½\"L x 15\"W x 10\"H.\\r\\n\\r\\nConstruction\\r\\n\\r\\nDurable wool/polyester blend.\\r\\n\\r\\nSlip-on design with Velcro-closure holds cover securely to cushion.\\r\\n\\r\\nMade in Canada.\\r\\n\\r\\nQuestions? Please contact us for further assistance.', 'row': 360}, page_content=': 360\\nname: Sled Buffalo Plaid Cushion Cover\\ndescription: This plaid sled cushion cover is a great update for your pull sled cushion—it’s cozy and durable in iconic buffalo plaid.\\r\\n\\r\\nSpecs\\r\\n\\r\\nSmall: Dimensions: 28\"L x 13\"W x 8 ½\"H.\\r\\n\\r\\nLarge: Dimensions: 35½\"L x 15\"W x 10\"H.\\r\\n\\r\\nConstruction\\r\\n\\r\\nDurable wool/polyester blend.\\r\\n\\r\\nSlip-on design with Velcro-closure holds cover securely to cushion.\\r\\n\\r\\nMade in Canada.\\r\\n\\r\\nQuestions? Please contact us for further assistance.'),\n",
       "   Document(metadata={'source': 'Our All-Weather Adirondack Lounger with built-in footstool is perfect for a quick breather or an entire afternoon of relaxation. Check out the specs: overall dimensions are 35¾\"H x 29\"W x 35¾\"D, the leg rest extends 22½\" from the seat, and the seat area measures 20\" x 17\" with a seat height of 13 1/8\"H. The lounger weighs about 48 lbs.\\r\\n\\r\\nWe love this product for its ecofriendly HDPE (High Density Polyethylene) construction, made partially from recycled materials. This lounger is heavy enough to withstand winds and won\\'t be affected by wet weather or extreme temperatures. It won\\'t rot, warp, crack, splinter, absorb moisture or ever need painting, even if you keep it outside all year-round.\\r\\n\\r\\nAdditional features include being easier to clean with soap and water and its fade-resistant colors. Create a timeless, functional outdoor entertainment area with our All-Weather products. Plus, you can pair this lounger with our Casco Bay Cushions, sold separately. It\\'s made in the USA.\\r\\n\\r\\nAssembly is required, please see the instructions below. If', 'row': 676}, page_content=\"Additional features include being easier to clean with soap and water and its fade-resistant colors. Create a timeless, functional outdoor entertainment area with our All-Weather products. Plus, you can pair this lounger with our Casco Bay Cushions, sold separately. It's made in the USA.\\r\\n\\r\\nAssembly is required, please see the instructions below. If\")],\n",
       "  'ground_truth': \"New York City's economic significance is vast, as it serves as the global financial capital, housing Wall Street and major financial institutions. Its diverse economy spans technology, media, healthcare, education, and more, making it resilient to economic fluctuations. NYC is a hub for international business, attracting global companies, and boasts a large, skilled labor force. Its real estate market, tourism, cultural industries, and educational institutions further fuel its economic prowess. The city's transportation network and global influence amplify its impact on the world stage, solidifying its status as a vital economic player and cultural epicenter.\",\n",
       "  'context_recall': 1.0},\n",
       " {'question': 'How did New York City get its name?',\n",
       "  'answer': \"I don't know, for historical information like that, I recommend checking reliable historical sources or visiting a library for accurate information on the origin of New York City's name.\",\n",
       "  'contexts': [Document(metadata={'source': 'As part of our partnership with National Park Foundation, we\\'re excited to offer this Find Your Park collectible patch – inspiring adventurers of all ages to get out there and find their own special connection to our national parks. \\r\\n\\r\\nSpecs: Dimensions: 2\"H x 3½\"W. \\r\\n\\r\\nWhy We Love It: We\\'re dedicated to supporting organizations that help people get outside and we think we\\'ve found our perfect match. The National Park Foundation, the official charitable partner of the National Park Service, works to protect an amazing network of more than 400 national park sites, many of which you\\'ll find just a short trip away.\\r\\n\\r\\nFabric & Care: Machine wash and dry. \\r\\n\\r\\nAdditional Features: Simply iron on to a backpack or jacket; or sew on fabric surface for extra durability. Get your 2019 National Park annual pass with us. Learn more at bbarnstormer.com/nationalparks. Made in the USA. \\r\\n\\r\\nQuestions? Please visit bbarnstormer.com/nationalparks for more information.', 'row': 653}, page_content='Questions? Please visit bbarnstormer.com/nationalparks for more information.'),\n",
       "   Document(metadata={'source': 'Instantly update your home – and make a great first impression – with this round address plaque, proudly handcrafted in the USA. \\r\\n\\r\\nSpecs: Dimensions: 8¾\" x 8¾\". \\r\\n\\r\\nConstruction: Cast from recycled aluminum that will not rust. Protected by Alumi-Shield™ all weather coating. \\r\\n\\r\\nAdditional Features: Personalize up to three 4\" numbers. Includes two brass screws for hanging. Made in the USA.\\r\\n\\r\\nQuestions? Please contact us for more information.', 'row': 711}, page_content=': 711\\nname: Home Address Sign, Round\\ndescription: Instantly update your home – and make a great first impression – with this round address plaque, proudly handcrafted in the USA. \\r\\n\\r\\nSpecs: Dimensions: 8¾\" x 8¾\". \\r\\n\\r\\nConstruction: Cast from recycled aluminum that will not rust. Protected by Alumi-Shield™ all weather coating. \\r\\n\\r\\nAdditional Features: Personalize up to three 4\" numbers. Includes two brass screws for hanging. Made in the USA.\\r\\n\\r\\nQuestions? Please contact us for more information.'),\n",
       "   Document(metadata={'source': 'This plaid sled cushion cover is a great update for your pull sled cushion—it’s cozy and durable in iconic buffalo plaid.\\r\\n\\r\\nSpecs\\r\\n\\r\\nSmall: Dimensions: 28\"L x 13\"W x 8 ½\"H.\\r\\n\\r\\nLarge: Dimensions: 35½\"L x 15\"W x 10\"H.\\r\\n\\r\\nConstruction\\r\\n\\r\\nDurable wool/polyester blend.\\r\\n\\r\\nSlip-on design with Velcro-closure holds cover securely to cushion.\\r\\n\\r\\nMade in Canada.\\r\\n\\r\\nQuestions? Please contact us for further assistance.', 'row': 360}, page_content=': 360\\nname: Sled Buffalo Plaid Cushion Cover\\ndescription: This plaid sled cushion cover is a great update for your pull sled cushion—it’s cozy and durable in iconic buffalo plaid.\\r\\n\\r\\nSpecs\\r\\n\\r\\nSmall: Dimensions: 28\"L x 13\"W x 8 ½\"H.\\r\\n\\r\\nLarge: Dimensions: 35½\"L x 15\"W x 10\"H.\\r\\n\\r\\nConstruction\\r\\n\\r\\nDurable wool/polyester blend.\\r\\n\\r\\nSlip-on design with Velcro-closure holds cover securely to cushion.\\r\\n\\r\\nMade in Canada.\\r\\n\\r\\nQuestions? Please contact us for further assistance.'),\n",
       "   Document(metadata={'source': \"Wool is a time-tested favorite of cold-weather hunters. It's warm even when wet, quiet in the woods and exceptionally durable for its weight. Our Maine Guide Wool Parka combines Bart's exclusive premium-quality, tightly woven wool with the lightweight comfort and warmth of advanced PrimaLoft® Infinity insulation. You get all the advantages of heavyweight wool without added bulk, allowing you to quickly and comfortably move through the woods and mount your rifle. The parka features fabric patches for forearm protection, strap closure for snug collar, full cut for layering with a comfortable nonbinding fit, back zip cargo pocket with reinforcements for drag rope or survival kit, interior zip security pocket, two front cargo pockets, two handwarmer pockets, draft-stopping elasticized drawcord waist and license loop. The tightly woven premium-quality wool provides superior durability, and the advanced PrimaLoft Infinity insulation adds extra warmth. Imported.\", 'row': 780}, page_content=': 780\\nname: Maine Guide PrimaLoft Parka')],\n",
       "  'ground_truth': 'New York City got its name when it came under British control in 1664. King Charles II of England granted the lands to his brother, the Duke of York, who named the city New York in his own honor.',\n",
       "  'context_recall': 0.0},\n",
       " {'question': 'What is the significance of the Statue of Liberty in New York City?',\n",
       "  'answer': 'The Statue of Liberty in New York City is a symbol of freedom and democracy. It was a gift from France to the United States and has come to represent hope and opportunity for immigrants coming to America. The statue is located on Liberty Island in New York Harbor and is a famous landmark known around the world.',\n",
       "  'contexts': [Document(metadata={'source': 'Instantly update your home – and make a great first impression – with this round address plaque, proudly handcrafted in the USA. \\r\\n\\r\\nSpecs: Dimensions: 8¾\" x 8¾\". \\r\\n\\r\\nConstruction: Cast from recycled aluminum that will not rust. Protected by Alumi-Shield™ all weather coating. \\r\\n\\r\\nAdditional Features: Personalize up to three 4\" numbers. Includes two brass screws for hanging. Made in the USA.\\r\\n\\r\\nQuestions? Please contact us for more information.', 'row': 711}, page_content=': 711\\nname: Home Address Sign, Round\\ndescription: Instantly update your home – and make a great first impression – with this round address plaque, proudly handcrafted in the USA. \\r\\n\\r\\nSpecs: Dimensions: 8¾\" x 8¾\". \\r\\n\\r\\nConstruction: Cast from recycled aluminum that will not rust. Protected by Alumi-Shield™ all weather coating. \\r\\n\\r\\nAdditional Features: Personalize up to three 4\" numbers. Includes two brass screws for hanging. Made in the USA.\\r\\n\\r\\nQuestions? Please contact us for more information.'),\n",
       "   Document(metadata={'source': 'This 32 ounce water bottle is leakproof, BPA-free and superversatile, making it ideal for hiking, trekking and daily hydration.\\r\\n\\r\\nSpecs:\\r\\nDimensions: 9.25\"H x 3.5\" diam.\\r\\nWeight: 5.9 oz.\\r\\nCapacity: 32 oz.\\r\\n\\r\\nConstruction:\\r\\nMade from BPA-free Tritan copolyester.\\r\\n\\r\\nAdditional Features:\\r\\nOdor resistant.\\r\\nLeakproof cap prevents drips.\\r\\nDishwasher safe (top rack only).\\r\\nMade in the USA.\\r\\n\\r\\nQuestions? Feel free to contact us directly.', 'row': 249}, page_content=': 249\\nname: HydroMaxx Wide Mouth Water Bottle, 32 oz.\\ndescription: This 32 ounce water bottle is leakproof, BPA-free and superversatile, making it ideal for hiking, trekking and daily hydration.\\r\\n\\r\\nSpecs:\\r\\nDimensions: 9.25\"H x 3.5\" diam.\\r\\nWeight: 5.9 oz.\\r\\nCapacity: 32 oz.\\r\\n\\r\\nConstruction:\\r\\nMade from BPA-free Tritan copolyester.\\r\\n\\r\\nAdditional Features:\\r\\nOdor resistant.\\r\\nLeakproof cap prevents drips.\\r\\nDishwasher safe (top rack only).\\r\\nMade in the USA.\\r\\n\\r\\nQuestions? Feel free to contact us directly.'),\n",
       "   Document(metadata={'source': 'As part of our partnership with the National Park Foundation, we are proud to offer the Arches National Park collectible patch, featuring Utah\\'s iconic arch embroidered on a purple background. Specs: Dimensions: 2½\"H x 3½\"W. Why We Love It: We\\'re dedicated to supporting organizations that help people get outside and we think we\\'ve found our perfect match. The National Park Foundation, the official charitable partner of the National Park Service, works to protect an amazing network of more than 400 national park sites, many of which you\\'ll find just a short trip away. Fabric & Care: Machine wash and dry. Additional Features: Iron on to a pack or jacket; can also be sewn on for extra durability. Get your 2019 National Park annual pass with us. Learn more at bbarnstormer.com/nationalparks. Made in the USA. Questions? Contact us for more information.', 'row': 342}, page_content=': 342\\nname: Grand Arches National Park Emblem\\ndescription: As part of our partnership with the National Park Foundation, we are proud to offer the Arches National Park collectible patch, featuring Utah\\'s iconic arch embroidered on a purple background. Specs: Dimensions: 2½\"H x 3½\"W. Why We Love It: We\\'re dedicated to supporting organizations that help people get outside and we think we\\'ve found our perfect match. The National Park Foundation, the official charitable partner of the National Park Service, works to protect an amazing network of more than 400 national park sites, many of which you\\'ll find just a short trip away. Fabric & Care: Machine wash and dry. Additional Features: Iron on to a pack or jacket; can also be sewn on for extra durability. Get your 2019 National Park annual pass with us. Learn more at bbarnstormer.com/nationalparks. Made in the USA. Questions? Contact us for more information.'),\n",
       "   Document(metadata={'source': 'The Pyramid Instant Shelter is a rugged and reliable choice for outdoor events. It provides years of shade and cover from rain. The shelter is easy to set up and takedown and includes a roller bag with high-density wheels and Sure-Grip handles for convenient transport.\\r\\n\\r\\nSpecs:\\r\\n\\r\\nDimensions: 10\\' x 10\\'\\r\\n\\r\\nPeak Height: 10\\'5\"\\r\\n\\r\\nWeight: 48 lb.\\r\\n\\r\\nValance Height: 6\\'11\"\\r\\n\\r\\nConstruction:\\r\\n\\r\\nHigh-strength, powder-coated steel frame.\\r\\n\\r\\nAdditional Features:\\r\\n\\r\\nMeets CPAI-84 and NFPA-701 Fire Resistant Requirements.\\r\\n\\r\\nToggle leg adjustment system makes set up and takedown fast and easy.\\r\\n\\r\\nIncludes spike kit to secure shelter to the ground.\\r\\n\\r\\nImported.\\r\\n\\r\\nIf you have any questions, please contact us.', 'row': 657}, page_content=': 657\\nname: Insta Shade Pyramid Canopy\\ndescription: The Pyramid Instant Shelter is a rugged and reliable choice for outdoor events. It provides years of shade and cover from rain. The shelter is easy to set up and takedown and includes a roller bag with high-density wheels and Sure-Grip handles for convenient transport.\\r\\n\\r\\nSpecs:\\r\\n\\r\\nDimensions: 10\\' x 10\\'\\r\\n\\r\\nPeak Height: 10\\'5\"\\r\\n\\r\\nWeight: 48 lb.\\r\\n\\r\\nValance Height: 6\\'11\"\\r\\n\\r\\nConstruction:\\r\\n\\r\\nHigh-strength, powder-coated steel frame.\\r\\n\\r\\nAdditional Features:\\r\\n\\r\\nMeets CPAI-84 and NFPA-701 Fire Resistant Requirements.\\r\\n\\r\\nToggle leg adjustment system makes set up and takedown fast and easy.\\r\\n\\r\\nIncludes spike kit to secure shelter to the ground.\\r\\n\\r\\nImported.\\r\\n\\r\\nIf you have any questions, please contact us.')],\n",
       "  'ground_truth': 'The Statue of Liberty in New York City holds great significance as a symbol of the United States and its ideals of liberty and peace. It greeted millions of immigrants who arrived in the U.S. by ship in the late 19th and early 20th centuries, representing hope and freedom for those seeking a better life. It has since become an iconic landmark and a global symbol of cultural diversity and freedom.',\n",
       "  'context_recall': 0.0}]"
      ]
     },
     "execution_count": 72,
     "metadata": {},
     "output_type": "execute_result"
    }
   ],
   "source": [
    "# evaluate context recall\n",
    "print(\"evaluating...\")\n",
    "r = [\n",
    "\tcontext_recall_chain({\n",
    "\t\t\"question\": ex[\"query\"],\n",
    "\t\t\"answer\": pred[\"result\"],\n",
    "\t\t\"contexts\": pred.get(\"source_documents\", []),\n",
    "\t\t\"ground_truth\": ex[\"ground_truths\"][0] if \"ground_truths\" in ex and len(ex[\"ground_truths\"]) == 1 else ex.get(\"ground_truths\", None)\n",
    "\t})\n",
    "\tfor ex, pred in zip(examples, predictions)\n",
    "]\n",
    "r"
   ]
  }
 ],
 "metadata": {
  "kernelspec": {
   "display_name": "Python 3",
   "language": "python",
   "name": "python3"
  },
  "language_info": {
   "codemirror_mode": {
    "name": "ipython",
    "version": 3
   },
   "file_extension": ".py",
   "mimetype": "text/x-python",
   "name": "python",
   "nbconvert_exporter": "python",
   "pygments_lexer": "ipython3",
   "version": "3.13.3"
  }
 },
 "nbformat": 4,
 "nbformat_minor": 5
}
